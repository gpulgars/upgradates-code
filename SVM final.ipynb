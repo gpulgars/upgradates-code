{
 "cells": [
  {
   "cell_type": "markdown",
   "metadata": {},
   "source": [
    "# Support Vector Machine (SVM) para Análisis de Sentimientos\n",
    "En el jupyter notebook se puede ver la construcción de un modelo SVM que predice el sentimiento de un comentario de redes sociales para dos productos ecuatorianos. Incluye la limpieza de datos, su preprocesamiento, preparación, construcción del modelo y evaluación del modelo."
   ]
  },
  {
   "cell_type": "code",
   "execution_count": null,
   "metadata": {},
   "outputs": [],
   "source": [
    "# Código desarrollado por: Camila Revelo, Joel Marín y Jordy Urquizo"
   ]
  },
  {
   "cell_type": "markdown",
   "metadata": {},
   "source": [
    "# #1 Importación de librerías para usar¶\n",
    "En esta celda se importan las librerías que se utilizarán durante el proyecto. Algunas de ellas viene incluidas con Anaconda, pero otras deben ser descargadas si no se lo ha hecho."
   ]
  },
  {
   "cell_type": "code",
   "execution_count": 42,
   "metadata": {},
   "outputs": [],
   "source": [
    "from sklearn import metrics\n",
    "import numpy as np # linear algebra\n",
    "import pandas as pd # data processing\n",
    "import re, string, nltk\n",
    "from nltk.tokenize import TweetTokenizer\n",
    "from sklearn.feature_extraction.text import CountVectorizer\n",
    "from bs4 import BeautifulSoup"
   ]
  },
  {
   "cell_type": "markdown",
   "metadata": {},
   "source": [
    "# Comprensión y limpieza de los datos\n",
    "En esta fase se llevó a cabo la extracción y recopilación de los comentarios de los usuarios sobre dos productos específicos. Estos comentarios se derivaron de varias publicaciones en redes sociales como Facebook e Instagram."
   ]
  },
  {
   "cell_type": "code",
   "execution_count": 2,
   "metadata": {},
   "outputs": [
    {
     "data": {
      "text/html": [
       "<div>\n",
       "<style scoped>\n",
       "    .dataframe tbody tr th:only-of-type {\n",
       "        vertical-align: middle;\n",
       "    }\n",
       "\n",
       "    .dataframe tbody tr th {\n",
       "        vertical-align: top;\n",
       "    }\n",
       "\n",
       "    .dataframe thead th {\n",
       "        text-align: right;\n",
       "    }\n",
       "</style>\n",
       "<table border=\"1\" class=\"dataframe\">\n",
       "  <thead>\n",
       "    <tr style=\"text-align: right;\">\n",
       "      <th></th>\n",
       "      <th>tweetid</th>\n",
       "      <th>user</th>\n",
       "      <th>content</th>\n",
       "      <th>value</th>\n",
       "      <th>country</th>\n",
       "      <th>Polarity_Rating</th>\n",
       "    </tr>\n",
       "  </thead>\n",
       "  <tbody>\n",
       "    <tr>\n",
       "      <th>0</th>\n",
       "      <td>NaN</td>\n",
       "      <td>NaN</td>\n",
       "      <td>\"Mi comentario es Delilú porque así lo quieres...</td>\n",
       "      <td>NEU</td>\n",
       "      <td>Ecuador</td>\n",
       "      <td>Neutral</td>\n",
       "    </tr>\n",
       "    <tr>\n",
       "      <th>1</th>\n",
       "      <td>NaN</td>\n",
       "      <td>NaN</td>\n",
       "      <td>#Delilú #mi dulce delilú no podría comérmelo s...</td>\n",
       "      <td>P</td>\n",
       "      <td>Ecuador</td>\n",
       "      <td>Positive</td>\n",
       "    </tr>\n",
       "    <tr>\n",
       "      <th>2</th>\n",
       "      <td>NaN</td>\n",
       "      <td>NaN</td>\n",
       "      <td>#Delilù es la mejor crema de chocolate😋😋 ami f...</td>\n",
       "      <td>P</td>\n",
       "      <td>Ecuador</td>\n",
       "      <td>Positive</td>\n",
       "    </tr>\n",
       "    <tr>\n",
       "      <th>3</th>\n",
       "      <td>NaN</td>\n",
       "      <td>NaN</td>\n",
       "      <td>#DelilúEnNavidad Mi Árbolito Navideño✨🎄🎄 junto...</td>\n",
       "      <td>P</td>\n",
       "      <td>Ecuador</td>\n",
       "      <td>Positive</td>\n",
       "    </tr>\n",
       "    <tr>\n",
       "      <th>4</th>\n",
       "      <td>NaN</td>\n",
       "      <td>NaN</td>\n",
       "      <td>#DelilúEnNavidad MI ARBOLITO 🎄 NAVIDEÑO CON UN...</td>\n",
       "      <td>P</td>\n",
       "      <td>Ecuador</td>\n",
       "      <td>Positive</td>\n",
       "    </tr>\n",
       "  </tbody>\n",
       "</table>\n",
       "</div>"
      ],
      "text/plain": [
       "   tweetid  user                                            content value  \\\n",
       "0      NaN   NaN  \"Mi comentario es Delilú porque así lo quieres...   NEU   \n",
       "1      NaN   NaN  #Delilú #mi dulce delilú no podría comérmelo s...     P   \n",
       "2      NaN   NaN  #Delilù es la mejor crema de chocolate😋😋 ami f...     P   \n",
       "3      NaN   NaN  #DelilúEnNavidad Mi Árbolito Navideño✨🎄🎄 junto...     P   \n",
       "4      NaN   NaN  #DelilúEnNavidad MI ARBOLITO 🎄 NAVIDEÑO CON UN...     P   \n",
       "\n",
       "   country Polarity_Rating  \n",
       "0  Ecuador         Neutral  \n",
       "1  Ecuador        Positive  \n",
       "2  Ecuador        Positive  \n",
       "3  Ecuador        Positive  \n",
       "4  Ecuador        Positive  "
      ]
     },
     "execution_count": 2,
     "metadata": {},
     "output_type": "execute_result"
    }
   ],
   "source": [
    "#Se importa el set de datos a trabajar\n",
    "data = pd.read_excel(\"TrainEcuadorFinal.xlsx\")\n",
    "\n",
    "#print head\n",
    "data.head()"
   ]
  },
  {
   "cell_type": "code",
   "execution_count": null,
   "metadata": {},
   "outputs": [],
   "source": [
    "#Se limpian los comentarios, comenzando por definir las columnas útiles.\n",
    "data_clean = data.copy()\n",
    "data_clean['content_clean'] = data_clean['content'].apply(lambda x: BeautifulSoup(x, \"lxml\").text)\n",
    "data_clean = data_clean.loc[:, ['content_clean', 'Polarity_Rating']]\n",
    "data_clean.head()"
   ]
  },
  {
   "cell_type": "markdown",
   "metadata": {},
   "source": [
    "# Preprocesamiento de los datos¶\n",
    "A pesar de que los métodos de extracción utilizados para obtener comentarios de los usuarios en las redes sociales dan una tabla que incluye los comentarios en una columna (content), los datos de texto presentes allí no se pueden alimentar a un modelo de machine learning tal como está. Por lo tanto, se deben seguir algunos pasos de preprocesamiento para garantizar que la entrada al modelo desarrollado sea la óptima y que se generen menos características."
   ]
  },
  {
   "cell_type": "code",
   "execution_count": 4,
   "metadata": {},
   "outputs": [],
   "source": [
    "data_clean['content_clean'] = data_clean['content_clean'].apply(lambda x: re.split('https:\\/\\/.*', str(x))[0]) #elimina url"
   ]
  },
  {
   "cell_type": "code",
   "execution_count": 5,
   "metadata": {},
   "outputs": [],
   "source": [
    "data_clean['content_clean'] = data_clean['content_clean'].apply(lambda x: re.split('\\d+', str(x))[0]) #elimina palabras con numeros"
   ]
  },
  {
   "cell_type": "code",
   "execution_count": 6,
   "metadata": {
    "scrolled": true
   },
   "outputs": [
    {
     "data": {
      "text/html": [
       "<div>\n",
       "<style scoped>\n",
       "    .dataframe tbody tr th:only-of-type {\n",
       "        vertical-align: middle;\n",
       "    }\n",
       "\n",
       "    .dataframe tbody tr th {\n",
       "        vertical-align: top;\n",
       "    }\n",
       "\n",
       "    .dataframe thead th {\n",
       "        text-align: right;\n",
       "    }\n",
       "</style>\n",
       "<table border=\"1\" class=\"dataframe\">\n",
       "  <thead>\n",
       "    <tr style=\"text-align: right;\">\n",
       "      <th></th>\n",
       "      <th>content_clean</th>\n",
       "      <th>Polarity_Rating</th>\n",
       "    </tr>\n",
       "  </thead>\n",
       "  <tbody>\n",
       "    <tr>\n",
       "      <th>0</th>\n",
       "      <td>\"Mi comentario es Delilú porque así lo quieres...</td>\n",
       "      <td>Neutral</td>\n",
       "    </tr>\n",
       "    <tr>\n",
       "      <th>1</th>\n",
       "      <td>#Delilú #mi dulce delilú no podría comérmelo s...</td>\n",
       "      <td>Positive</td>\n",
       "    </tr>\n",
       "    <tr>\n",
       "      <th>2</th>\n",
       "      <td>#Delilù es la mejor crema de chocolate😋😋 ami f...</td>\n",
       "      <td>Positive</td>\n",
       "    </tr>\n",
       "    <tr>\n",
       "      <th>3</th>\n",
       "      <td>#DelilúEnNavidad Mi Árbolito Navideño✨🎄🎄 junto...</td>\n",
       "      <td>Positive</td>\n",
       "    </tr>\n",
       "    <tr>\n",
       "      <th>4</th>\n",
       "      <td>#DelilúEnNavidad MI ARBOLITO 🎄 NAVIDEÑO CON UN...</td>\n",
       "      <td>Positive</td>\n",
       "    </tr>\n",
       "    <tr>\n",
       "      <th>...</th>\n",
       "      <td>...</td>\n",
       "      <td>...</td>\n",
       "    </tr>\n",
       "    <tr>\n",
       "      <th>5396</th>\n",
       "      <td>#NuestraRecetaLaFavorita Nuestro sueño en fami...</td>\n",
       "      <td>Positive</td>\n",
       "    </tr>\n",
       "    <tr>\n",
       "      <th>5397</th>\n",
       "      <td>Uy que emoción desde hoy estaré muchísimo más ...</td>\n",
       "      <td>Positive</td>\n",
       "    </tr>\n",
       "    <tr>\n",
       "      <th>5398</th>\n",
       "      <td>¡Exquisita Rosa! Encuentra la receta aquí: bit...</td>\n",
       "      <td>Positive</td>\n",
       "    </tr>\n",
       "    <tr>\n",
       "      <th>5399</th>\n",
       "      <td>Muy bien Wendy, nos encanta saber a quien admi...</td>\n",
       "      <td>Positive</td>\n",
       "    </tr>\n",
       "    <tr>\n",
       "      <th>5400</th>\n",
       "      <td>Aceite ligh ,achiote #LaFavorita 😊</td>\n",
       "      <td>Positive</td>\n",
       "    </tr>\n",
       "  </tbody>\n",
       "</table>\n",
       "<p>5401 rows × 2 columns</p>\n",
       "</div>"
      ],
      "text/plain": [
       "                                          content_clean Polarity_Rating\n",
       "0     \"Mi comentario es Delilú porque así lo quieres...         Neutral\n",
       "1     #Delilú #mi dulce delilú no podría comérmelo s...        Positive\n",
       "2     #Delilù es la mejor crema de chocolate😋😋 ami f...        Positive\n",
       "3     #DelilúEnNavidad Mi Árbolito Navideño✨🎄🎄 junto...        Positive\n",
       "4     #DelilúEnNavidad MI ARBOLITO 🎄 NAVIDEÑO CON UN...        Positive\n",
       "...                                                 ...             ...\n",
       "5396  #NuestraRecetaLaFavorita Nuestro sueño en fami...        Positive\n",
       "5397  Uy que emoción desde hoy estaré muchísimo más ...        Positive\n",
       "5398  ¡Exquisita Rosa! Encuentra la receta aquí: bit...        Positive\n",
       "5399  Muy bien Wendy, nos encanta saber a quien admi...        Positive\n",
       "5400                 Aceite ligh ,achiote #LaFavorita 😊        Positive\n",
       "\n",
       "[5401 rows x 2 columns]"
      ]
     },
     "execution_count": 6,
     "metadata": {},
     "output_type": "execute_result"
    }
   ],
   "source": [
    "#elimina palabras con letras repetidas\n",
    "def conti_rep_char(str1):\n",
    "    tchr = str1.group(0)\n",
    "    if len(tchr) > 1:\n",
    "      return tchr[0:1]\n",
    "      \n",
    "def check_unique_char(rep, sent_text):\n",
    "    \n",
    "    convert = re.sub(r'(\\w)\\1+', \n",
    "                     rep,\n",
    "                     sent_text)\n",
    "      \n",
    "    # returing the converted word\n",
    "    return convert\n",
    "  \n",
    "data_clean['content_clean'] = data_clean['content_clean'].apply(\n",
    "                                   lambda x : check_unique_char(conti_rep_char,\n",
    "                                                              x))\n",
    "# show Dataframe\n",
    "data_clean"
   ]
  },
  {
   "cell_type": "code",
   "execution_count": 7,
   "metadata": {},
   "outputs": [
    {
     "name": "stdout",
     "output_type": "stream",
     "text": [
      "Requirement already satisfied: emoji in c:\\users\\gpulg\\anaconda3\\lib\\site-packages (1.2.0)\n",
      "Note: you may need to restart the kernel to use updated packages.\n"
     ]
    }
   ],
   "source": [
    "pip install emoji #Instala paquete de emojis "
   ]
  },
  {
   "cell_type": "code",
   "execution_count": 8,
   "metadata": {},
   "outputs": [],
   "source": [
    "import emoji\n",
    "\n",
    "def get_mentions_processing(text):\n",
    "    return \" \".join(filter(lambda x:x[0]!='@', text.split())) #no mentions\n",
    "\n",
    "def get_hashtags_processing(text):\n",
    "    return \" \".join(filter(lambda x:x[0]!='#', text.split())) #no hashtags\n",
    "\n",
    "def get_emojis_processing(text):\n",
    "    return str(emoji.demojize(text,language='es')).replace(\":\",\" \") #emojis a texto\n",
    "\n",
    "def get_less3words_processing(text):\n",
    "    return ' '.join([word for word in text.split() if len(word)>2]) #palabras con menos de 3 caracteres\n",
    "\n",
    "def get_text_processing(text):\n",
    "    stpword = stopwords.words('spanish')\n",
    "    no_punctuation = [char for char in text if char not in string.punctuation] #elimina puntuacion\n",
    "    no_punctuation = ''.join(no_punctuation).lower() #convierte en minuscula\n",
    "    return ' '.join([word for word in no_punctuation.split() if word.lower() not in stpword]) #elimina stopwords"
   ]
  },
  {
   "cell_type": "code",
   "execution_count": 9,
   "metadata": {
    "scrolled": true
   },
   "outputs": [
    {
     "name": "stderr",
     "output_type": "stream",
     "text": [
      "[nltk_data] Downloading package stopwords to\n",
      "[nltk_data]     C:\\Users\\gpulg\\AppData\\Roaming\\nltk_data...\n",
      "[nltk_data]   Package stopwords is already up-to-date!\n"
     ]
    },
    {
     "data": {
      "text/html": [
       "<div>\n",
       "<style scoped>\n",
       "    .dataframe tbody tr th:only-of-type {\n",
       "        vertical-align: middle;\n",
       "    }\n",
       "\n",
       "    .dataframe tbody tr th {\n",
       "        vertical-align: top;\n",
       "    }\n",
       "\n",
       "    .dataframe thead th {\n",
       "        text-align: right;\n",
       "    }\n",
       "</style>\n",
       "<table border=\"1\" class=\"dataframe\">\n",
       "  <thead>\n",
       "    <tr style=\"text-align: right;\">\n",
       "      <th></th>\n",
       "      <th>content_clean</th>\n",
       "      <th>Polarity_Rating</th>\n",
       "      <th>Content_Review</th>\n",
       "      <th>Content_Review1</th>\n",
       "      <th>Content_Review2</th>\n",
       "      <th>Content_Review3</th>\n",
       "      <th>Content_Review4</th>\n",
       "    </tr>\n",
       "  </thead>\n",
       "  <tbody>\n",
       "    <tr>\n",
       "      <th>0</th>\n",
       "      <td>La favorita vida !</td>\n",
       "      <td>Positive</td>\n",
       "      <td>La favorita vida !</td>\n",
       "      <td>La favorita vida !</td>\n",
       "      <td>La favorita vida !</td>\n",
       "      <td>favorita vida</td>\n",
       "      <td>favorita vida</td>\n",
       "    </tr>\n",
       "    <tr>\n",
       "      <th>1</th>\n",
       "      <td>Ok listo esperando la legada de la promo</td>\n",
       "      <td>Neutral</td>\n",
       "      <td>Ok listo esperando la legada de la promo</td>\n",
       "      <td>Ok listo esperando la legada de la promo</td>\n",
       "      <td>Ok listo esperando la legada de la promo</td>\n",
       "      <td>ok listo esperando legada promo</td>\n",
       "      <td>listo esperando legada promo</td>\n",
       "    </tr>\n",
       "    <tr>\n",
       "      <th>2</th>\n",
       "      <td>Lo voy ah probar con la favorita todas mis com...</td>\n",
       "      <td>Positive</td>\n",
       "      <td>Lo voy ah probar con la favorita todas mis com...</td>\n",
       "      <td>Lo voy ah probar con la favorita todas mis com...</td>\n",
       "      <td>Lo voy ah probar con la favorita todas mis com...</td>\n",
       "      <td>voy ah probar favorita todas comidas quedan ex...</td>\n",
       "      <td>voy probar favorita todas comidas quedan exele...</td>\n",
       "    </tr>\n",
       "    <tr>\n",
       "      <th>3</th>\n",
       "      <td>@iropo mucho...  ( cruzcampo no me vale)  😉😘</td>\n",
       "      <td>Neutral</td>\n",
       "      <td>mucho... ( cruzcampo no me vale) 😉😘</td>\n",
       "      <td>mucho... ( cruzcampo no me vale) 😉😘</td>\n",
       "      <td>mucho... ( cruzcampo no me vale)  cara_guiñand...</td>\n",
       "      <td>cruzcampo vale caraguiñandoelojo caralanzandou...</td>\n",
       "      <td>cruzcampo vale caraguiñandoelojo caralanzandou...</td>\n",
       "    </tr>\n",
       "    <tr>\n",
       "      <th>4</th>\n",
       "      <td>Muero por un alfajor Milka oreo 😭</td>\n",
       "      <td>Positive</td>\n",
       "      <td>Muero por un alfajor Milka oreo 😭</td>\n",
       "      <td>Muero por un alfajor Milka oreo 😭</td>\n",
       "      <td>Muero por un alfajor Milka oreo  cara_llorando...</td>\n",
       "      <td>muero alfajor milka oreo carallorandofuerte</td>\n",
       "      <td>muero alfajor milka oreo carallorandofuerte</td>\n",
       "    </tr>\n",
       "    <tr>\n",
       "      <th>...</th>\n",
       "      <td>...</td>\n",
       "      <td>...</td>\n",
       "      <td>...</td>\n",
       "      <td>...</td>\n",
       "      <td>...</td>\n",
       "      <td>...</td>\n",
       "      <td>...</td>\n",
       "    </tr>\n",
       "    <tr>\n",
       "      <th>5396</th>\n",
       "      <td>@nicoquenepa y la Heineken uf</td>\n",
       "      <td>Neutral</td>\n",
       "      <td>y la Heineken uf</td>\n",
       "      <td>y la Heineken uf</td>\n",
       "      <td>y la Heineken uf</td>\n",
       "      <td>heineken uf</td>\n",
       "      <td>heineken</td>\n",
       "    </tr>\n",
       "    <tr>\n",
       "      <th>5397</th>\n",
       "      <td>Que asco la cerveza Heineken</td>\n",
       "      <td>Negative</td>\n",
       "      <td>Que asco la cerveza Heineken</td>\n",
       "      <td>Que asco la cerveza Heineken</td>\n",
       "      <td>Que asco la cerveza Heineken</td>\n",
       "      <td>asco cerveza heineken</td>\n",
       "      <td>asco cerveza heineken</td>\n",
       "    </tr>\n",
       "    <tr>\n",
       "      <th>5398</th>\n",
       "      <td>De ley me ha encantado cocinar con la favorita...</td>\n",
       "      <td>Positive</td>\n",
       "      <td>De ley me ha encantado cocinar con la favorita...</td>\n",
       "      <td>De ley me ha encantado cocinar con la favorita...</td>\n",
       "      <td>De ley me ha encantado cocinar con la favorita...</td>\n",
       "      <td>ley encantado cocinar favorita cuarentena feli...</td>\n",
       "      <td>ley encantado cocinar favorita cuarentena feli...</td>\n",
       "    </tr>\n",
       "    <tr>\n",
       "      <th>5399</th>\n",
       "      <td>Hermoso  video!! Llega al corazón  💖</td>\n",
       "      <td>Positive</td>\n",
       "      <td>Hermoso video!! Llega al corazón 💖</td>\n",
       "      <td>Hermoso video!! Llega al corazón 💖</td>\n",
       "      <td>Hermoso video!! Llega al corazón  corazón_bril...</td>\n",
       "      <td>hermoso video llega corazón corazónbrillante</td>\n",
       "      <td>hermoso video llega corazón corazónbrillante</td>\n",
       "    </tr>\n",
       "    <tr>\n",
       "      <th>5400</th>\n",
       "      <td>Carlos Slim y Bimbo se unen para lanzar un veh...</td>\n",
       "      <td>Neutral</td>\n",
       "      <td>Carlos Slim y Bimbo se unen para lanzar un veh...</td>\n",
       "      <td>Carlos Slim y Bimbo se unen para lanzar un veh...</td>\n",
       "      <td>Carlos Slim y Bimbo se unen para lanzar un veh...</td>\n",
       "      <td>carlos slim bimbo unen lanzar vehículo eléctri...</td>\n",
       "      <td>carlos slim bimbo unen lanzar vehículo eléctri...</td>\n",
       "    </tr>\n",
       "  </tbody>\n",
       "</table>\n",
       "<p>5401 rows × 7 columns</p>\n",
       "</div>"
      ],
      "text/plain": [
       "                                          content_clean Polarity_Rating  \\\n",
       "0                                    La favorita vida !        Positive   \n",
       "1              Ok listo esperando la legada de la promo         Neutral   \n",
       "2     Lo voy ah probar con la favorita todas mis com...        Positive   \n",
       "3          @iropo mucho...  ( cruzcampo no me vale)  😉😘         Neutral   \n",
       "4                     Muero por un alfajor Milka oreo 😭        Positive   \n",
       "...                                                 ...             ...   \n",
       "5396                      @nicoquenepa y la Heineken uf         Neutral   \n",
       "5397                       Que asco la cerveza Heineken        Negative   \n",
       "5398  De ley me ha encantado cocinar con la favorita...        Positive   \n",
       "5399               Hermoso  video!! Llega al corazón  💖        Positive   \n",
       "5400  Carlos Slim y Bimbo se unen para lanzar un veh...         Neutral   \n",
       "\n",
       "                                         Content_Review  \\\n",
       "0                                    La favorita vida !   \n",
       "1              Ok listo esperando la legada de la promo   \n",
       "2     Lo voy ah probar con la favorita todas mis com...   \n",
       "3                   mucho... ( cruzcampo no me vale) 😉😘   \n",
       "4                     Muero por un alfajor Milka oreo 😭   \n",
       "...                                                 ...   \n",
       "5396                                   y la Heineken uf   \n",
       "5397                       Que asco la cerveza Heineken   \n",
       "5398  De ley me ha encantado cocinar con la favorita...   \n",
       "5399                 Hermoso video!! Llega al corazón 💖   \n",
       "5400  Carlos Slim y Bimbo se unen para lanzar un veh...   \n",
       "\n",
       "                                        Content_Review1  \\\n",
       "0                                    La favorita vida !   \n",
       "1              Ok listo esperando la legada de la promo   \n",
       "2     Lo voy ah probar con la favorita todas mis com...   \n",
       "3                   mucho... ( cruzcampo no me vale) 😉😘   \n",
       "4                     Muero por un alfajor Milka oreo 😭   \n",
       "...                                                 ...   \n",
       "5396                                   y la Heineken uf   \n",
       "5397                       Que asco la cerveza Heineken   \n",
       "5398  De ley me ha encantado cocinar con la favorita...   \n",
       "5399                 Hermoso video!! Llega al corazón 💖   \n",
       "5400  Carlos Slim y Bimbo se unen para lanzar un veh...   \n",
       "\n",
       "                                        Content_Review2  \\\n",
       "0                                    La favorita vida !   \n",
       "1              Ok listo esperando la legada de la promo   \n",
       "2     Lo voy ah probar con la favorita todas mis com...   \n",
       "3     mucho... ( cruzcampo no me vale)  cara_guiñand...   \n",
       "4     Muero por un alfajor Milka oreo  cara_llorando...   \n",
       "...                                                 ...   \n",
       "5396                                   y la Heineken uf   \n",
       "5397                       Que asco la cerveza Heineken   \n",
       "5398  De ley me ha encantado cocinar con la favorita...   \n",
       "5399  Hermoso video!! Llega al corazón  corazón_bril...   \n",
       "5400  Carlos Slim y Bimbo se unen para lanzar un veh...   \n",
       "\n",
       "                                        Content_Review3  \\\n",
       "0                                         favorita vida   \n",
       "1                       ok listo esperando legada promo   \n",
       "2     voy ah probar favorita todas comidas quedan ex...   \n",
       "3     cruzcampo vale caraguiñandoelojo caralanzandou...   \n",
       "4           muero alfajor milka oreo carallorandofuerte   \n",
       "...                                                 ...   \n",
       "5396                                        heineken uf   \n",
       "5397                              asco cerveza heineken   \n",
       "5398  ley encantado cocinar favorita cuarentena feli...   \n",
       "5399       hermoso video llega corazón corazónbrillante   \n",
       "5400  carlos slim bimbo unen lanzar vehículo eléctri...   \n",
       "\n",
       "                                        Content_Review4  \n",
       "0                                         favorita vida  \n",
       "1                          listo esperando legada promo  \n",
       "2     voy probar favorita todas comidas quedan exele...  \n",
       "3     cruzcampo vale caraguiñandoelojo caralanzandou...  \n",
       "4           muero alfajor milka oreo carallorandofuerte  \n",
       "...                                                 ...  \n",
       "5396                                           heineken  \n",
       "5397                              asco cerveza heineken  \n",
       "5398  ley encantado cocinar favorita cuarentena feli...  \n",
       "5399       hermoso video llega corazón corazónbrillante  \n",
       "5400  carlos slim bimbo unen lanzar vehículo eléctri...  \n",
       "\n",
       "[5401 rows x 7 columns]"
      ]
     },
     "execution_count": 9,
     "metadata": {},
     "output_type": "execute_result"
    }
   ],
   "source": [
    "# Se importan y se descargan stopwords preestablecidos\n",
    "from nltk.corpus import stopwords\n",
    "nltk.download('stopwords')\n",
    "data_clean = data_clean.sample(frac=1).reset_index(drop=True)\n",
    "df1 = pd.DataFrame()\n",
    "df1 = data_clean\n",
    "df1['content_clean'] = data_clean['content_clean']\n",
    "df1['Content_Review'] = data_clean['content_clean'].apply(get_mentions_processing)\n",
    "df1['Content_Review1'] = df1['Content_Review'].apply(get_hashtags_processing)\n",
    "df1['Content_Review2'] = df1['Content_Review1'].apply(get_emojis_processing)\n",
    "df1['Content_Review3'] = df1['Content_Review2'].apply(get_text_processing)\n",
    "df1['Content_Review4'] = df1['Content_Review3'].apply(get_less3words_processing)\n",
    "df1"
   ]
  },
  {
   "cell_type": "code",
   "execution_count": 10,
   "metadata": {},
   "outputs": [
    {
     "data": {
      "text/html": [
       "<div>\n",
       "<style scoped>\n",
       "    .dataframe tbody tr th:only-of-type {\n",
       "        vertical-align: middle;\n",
       "    }\n",
       "\n",
       "    .dataframe tbody tr th {\n",
       "        vertical-align: top;\n",
       "    }\n",
       "\n",
       "    .dataframe thead th {\n",
       "        text-align: right;\n",
       "    }\n",
       "</style>\n",
       "<table border=\"1\" class=\"dataframe\">\n",
       "  <thead>\n",
       "    <tr style=\"text-align: right;\">\n",
       "      <th></th>\n",
       "      <th>Content_Review4</th>\n",
       "      <th>Polarity_Rating</th>\n",
       "    </tr>\n",
       "  </thead>\n",
       "  <tbody>\n",
       "    <tr>\n",
       "      <th>0</th>\n",
       "      <td>favorita vida</td>\n",
       "      <td>Positive</td>\n",
       "    </tr>\n",
       "    <tr>\n",
       "      <th>1</th>\n",
       "      <td>listo esperando legada promo</td>\n",
       "      <td>Neutral</td>\n",
       "    </tr>\n",
       "    <tr>\n",
       "      <th>2</th>\n",
       "      <td>voy probar favorita todas comidas quedan exele...</td>\n",
       "      <td>Positive</td>\n",
       "    </tr>\n",
       "    <tr>\n",
       "      <th>3</th>\n",
       "      <td>cruzcampo vale caraguiñandoelojo caralanzandou...</td>\n",
       "      <td>Neutral</td>\n",
       "    </tr>\n",
       "    <tr>\n",
       "      <th>4</th>\n",
       "      <td>muero alfajor milka oreo carallorandofuerte</td>\n",
       "      <td>Positive</td>\n",
       "    </tr>\n",
       "  </tbody>\n",
       "</table>\n",
       "</div>"
      ],
      "text/plain": [
       "                                     Content_Review4 Polarity_Rating\n",
       "0                                      favorita vida        Positive\n",
       "1                       listo esperando legada promo         Neutral\n",
       "2  voy probar favorita todas comidas quedan exele...        Positive\n",
       "3  cruzcampo vale caraguiñandoelojo caralanzandou...         Neutral\n",
       "4        muero alfajor milka oreo carallorandofuerte        Positive"
      ]
     },
     "execution_count": 10,
     "metadata": {},
     "output_type": "execute_result"
    }
   ],
   "source": [
    "# Se crea un dataframe con unicamente el comentario y su polaridad en cuanto al sentimiento\n",
    "df2 = pd.DataFrame()\n",
    "df2 = df1\n",
    "df2 = df1[['Content_Review4', 'Polarity_Rating']]\n",
    "df2.head()"
   ]
  },
  {
   "cell_type": "code",
   "execution_count": 11,
   "metadata": {
    "scrolled": true
   },
   "outputs": [
    {
     "name": "stdout",
     "output_type": "stream",
     "text": [
      "315\n",
      "(5086, 2)\n"
     ]
    },
    {
     "name": "stderr",
     "output_type": "stream",
     "text": [
      "<ipython-input-11-178ae3d6fd43>:2: SettingWithCopyWarning: \n",
      "A value is trying to be set on a copy of a slice from a DataFrame.\n",
      "Try using .loc[row_indexer,col_indexer] = value instead\n",
      "\n",
      "See the caveats in the documentation: https://pandas.pydata.org/pandas-docs/stable/user_guide/indexing.html#returning-a-view-versus-a-copy\n",
      "  df2['Content_Review4'] = df2['Content_Review4'].replace('', np.nan) # Reemplazo los registros vacíos con NaN\n"
     ]
    },
    {
     "data": {
      "text/html": [
       "<div>\n",
       "<style scoped>\n",
       "    .dataframe tbody tr th:only-of-type {\n",
       "        vertical-align: middle;\n",
       "    }\n",
       "\n",
       "    .dataframe tbody tr th {\n",
       "        vertical-align: top;\n",
       "    }\n",
       "\n",
       "    .dataframe thead th {\n",
       "        text-align: right;\n",
       "    }\n",
       "</style>\n",
       "<table border=\"1\" class=\"dataframe\">\n",
       "  <thead>\n",
       "    <tr style=\"text-align: right;\">\n",
       "      <th></th>\n",
       "      <th>Content_Review4</th>\n",
       "      <th>Polarity_Rating</th>\n",
       "    </tr>\n",
       "  </thead>\n",
       "  <tbody>\n",
       "    <tr>\n",
       "      <th>0</th>\n",
       "      <td>favorita vida</td>\n",
       "      <td>Positive</td>\n",
       "    </tr>\n",
       "    <tr>\n",
       "      <th>1</th>\n",
       "      <td>listo esperando legada promo</td>\n",
       "      <td>Neutral</td>\n",
       "    </tr>\n",
       "    <tr>\n",
       "      <th>2</th>\n",
       "      <td>voy probar favorita todas comidas quedan exele...</td>\n",
       "      <td>Positive</td>\n",
       "    </tr>\n",
       "    <tr>\n",
       "      <th>3</th>\n",
       "      <td>cruzcampo vale caraguiñandoelojo caralanzandou...</td>\n",
       "      <td>Neutral</td>\n",
       "    </tr>\n",
       "    <tr>\n",
       "      <th>4</th>\n",
       "      <td>muero alfajor milka oreo carallorandofuerte</td>\n",
       "      <td>Positive</td>\n",
       "    </tr>\n",
       "    <tr>\n",
       "      <th>...</th>\n",
       "      <td>...</td>\n",
       "      <td>...</td>\n",
       "    </tr>\n",
       "    <tr>\n",
       "      <th>5396</th>\n",
       "      <td>heineken</td>\n",
       "      <td>Neutral</td>\n",
       "    </tr>\n",
       "    <tr>\n",
       "      <th>5397</th>\n",
       "      <td>asco cerveza heineken</td>\n",
       "      <td>Negative</td>\n",
       "    </tr>\n",
       "    <tr>\n",
       "      <th>5398</th>\n",
       "      <td>ley encantado cocinar favorita cuarentena feli...</td>\n",
       "      <td>Positive</td>\n",
       "    </tr>\n",
       "    <tr>\n",
       "      <th>5399</th>\n",
       "      <td>hermoso video llega corazón corazónbrillante</td>\n",
       "      <td>Positive</td>\n",
       "    </tr>\n",
       "    <tr>\n",
       "      <th>5400</th>\n",
       "      <td>carlos slim bimbo unen lanzar vehículo eléctri...</td>\n",
       "      <td>Neutral</td>\n",
       "    </tr>\n",
       "  </tbody>\n",
       "</table>\n",
       "<p>5086 rows × 2 columns</p>\n",
       "</div>"
      ],
      "text/plain": [
       "                                        Content_Review4 Polarity_Rating\n",
       "0                                         favorita vida        Positive\n",
       "1                          listo esperando legada promo         Neutral\n",
       "2     voy probar favorita todas comidas quedan exele...        Positive\n",
       "3     cruzcampo vale caraguiñandoelojo caralanzandou...         Neutral\n",
       "4           muero alfajor milka oreo carallorandofuerte        Positive\n",
       "...                                                 ...             ...\n",
       "5396                                           heineken         Neutral\n",
       "5397                              asco cerveza heineken        Negative\n",
       "5398  ley encantado cocinar favorita cuarentena feli...        Positive\n",
       "5399       hermoso video llega corazón corazónbrillante        Positive\n",
       "5400  carlos slim bimbo unen lanzar vehículo eléctri...         Neutral\n",
       "\n",
       "[5086 rows x 2 columns]"
      ]
     },
     "execution_count": 11,
     "metadata": {},
     "output_type": "execute_result"
    }
   ],
   "source": [
    "# Elimino registros con Answers NaN\n",
    "df2['Content_Review4'] = df2['Content_Review4'].replace('', np.nan) # Reemplazo los registros vacíos con NaN\n",
    "print(df2['Content_Review4'].isna().sum()) \n",
    "df2 = df2.dropna(axis=0, subset=['Content_Review4'])\n",
    "print(df2.shape)\n",
    "df2"
   ]
  },
  {
   "cell_type": "code",
   "execution_count": 12,
   "metadata": {},
   "outputs": [
    {
     "name": "stdout",
     "output_type": "stream",
     "text": [
      "Neutral     2944\n",
      "Positive    1848\n",
      "Negative     294\n",
      "Name: Polarity_Rating, dtype: int64\n"
     ]
    }
   ],
   "source": [
    "# Se cuenta el numero de comentarios por cada polaridad\n",
    "print(df2['Polarity_Rating'].value_counts())"
   ]
  },
  {
   "cell_type": "raw",
   "metadata": {},
   "source": [
    "#División de entrenamiento y prueba (Train / Test Slit)\n",
    "Para mejorar la precisión del modelo SVM posterior, se lleva a cabo un enfoque de evaluación llamado Train/Test Split, mediante el cual se divide el set de datos en conjuntos de entrenamiento y prueba, los cuales son mutuamente exclusivos. Luego de ello, se entrena con el conjunto de entrenamiento y se prueba con el conjunto de prueba."
   ]
  },
  {
   "cell_type": "code",
   "execution_count": 13,
   "metadata": {},
   "outputs": [],
   "source": [
    "# Se realiza la division del set de datos en entrenamiento y prueba\n",
    "from sklearn.model_selection import train_test_split\n",
    "\n",
    "train, test = train_test_split(df2, test_size=0.3, random_state=42)\n",
    "X_train = train['Content_Review4'].values\n",
    "X_test = test['Content_Review4'].values\n",
    "y_train = train['Polarity_Rating']\n",
    "y_test = test['Polarity_Rating']"
   ]
  },
  {
   "cell_type": "code",
   "execution_count": 14,
   "metadata": {},
   "outputs": [
    {
     "name": "stdout",
     "output_type": "stream",
     "text": [
      "(3560,)\n",
      "(1526,)\n",
      "(3560,)\n",
      "(1526,)\n"
     ]
    }
   ],
   "source": [
    "# Se imprime la cantidad de palabras de cada set (entrenamiento y prueba)\n",
    "print(X_train.shape)\n",
    "print(X_test.shape)\n",
    "print(y_train.shape)\n",
    "print(y_test.shape)"
   ]
  },
  {
   "cell_type": "code",
   "execution_count": 16,
   "metadata": {},
   "outputs": [
    {
     "name": "stdout",
     "output_type": "stream",
     "text": [
      "(3560, 6925)\n",
      "(1526, 6925)\n",
      "(3560,)\n",
      "(1526,)\n"
     ]
    }
   ],
   "source": [
    "print(X_train.shape)\n",
    "print(X_test.shape)\n",
    "print(y_train.shape)\n",
    "print(y_test.shape)"
   ]
  },
  {
   "cell_type": "markdown",
   "metadata": {},
   "source": [
    "# 3 Manipulación previa al algoritmo\n",
    "Extracción de características\n",
    "La extracción de características es el proceso mediante el cual se pueden obtener características relevantes a partir de datos textuales sin procesar. Para llevar a cabo esta extracción se toman en cuenta las siguientes funciones:\n",
    "\n",
    "Countvectorizer: Esta función transforma el texto en vectores de datos numéricos. Los algoritmos de machine learning deben trabajar con datos numéricos como entrada, por lo que se necesita vectorización para desarrollar un modelo (Scikit-Learn, 2020)."
   ]
  },
  {
   "cell_type": "code",
   "execution_count": 15,
   "metadata": {},
   "outputs": [],
   "source": [
    "vect1 = CountVectorizer()\n",
    "X_train = vect1.fit_transform(X_train)\n",
    "X_test = vect1.transform(X_test)"
   ]
  },
  {
   "cell_type": "code",
   "execution_count": 22,
   "metadata": {
    "scrolled": false
   },
   "outputs": [
    {
     "name": "stdout",
     "output_type": "stream",
     "text": [
      "['abajo', 'abandona', 'abastecer', 'abata', 'abcd', 'abces', 'abel', 'abi', 'abigail', 'abra', 'abrazar', 'abrazo', 'abre', 'abren', 'abri', 'abrimos', 'abrir', 'absorbido', 'abu', 'abuela', 'abuelita', 'abundante', 'aburida', 'aburido', 'aburo', 'abusados', 'acaba', 'acabado', 'acabados', 'acaban', 'acaben', 'acabo', 'acabó', 'academia', 'academialafavorita', 'acampando', 'acapela', 'aceder', 'aceite', 'aceiteachote', 'aceites', 'aceitito', 'aceité', 'acelga', 'acent', 'acentos', 'acepta', 'aceptan', 'acepto', 'aceptó', 'acerque', 'acertada', 'acesible', 'aceso', 'acesorios', 'achaquen', 'achiote', 'achiotes', 'achiotey', 'acho', 'achote', 'achotito', 'acidente', 'acidez', 'acionistas', 'aciote', 'aclaración', 'acogido', 'acompaña', 'acompañada', 'acompañado', 'acompañados', 'acompañan', 'acompañandonos', 'acompañante', 'acompañar', 'acompañarla', 'acompañarlo', 'acompañaron', 'acompañat', 'acompañe', 'acompaño', 'aconpanñadas', 'acordandoce', 'acordar', 'acordaron', 'acorde', 'acosta', 'acostarce', 'acostarme', 'actitud', 'active', 'actividad', 'actividades', 'actual', 'actuales', 'actualidad', 'acuden', 'acudir', 'acuerdan', 'acuerdo', 'acuria', 'acuña', 'acá', 'adaptable', 'adelaida', 'adelantaron', 'adelante', 'adelanto', 'ademas', 'además', 'aderesos', 'aderezo', 'aderezos', 'adhiera', 'adiciona', 'adición', 'adicta', 'adictivo', 'adicto', 'adictos', 'adidas', 'adios', 'adivinamos', 'adivinar', 'adivinas', 'adiós', 'administrativo', 'admirable', 'admiracion', 'admirar', 'admiras', 'admiro', 'adobar', 'adolescentes', 'adopta', 'adoraron', 'adornar', 'adornodecorazón', 'adoro', 'adquiere', 'adquirida', 'adriana', 'adriána', 'aducionamos', 'adueña', 'adueñado', 'adultos', 'aen', 'afinesgracias', 'afortunada', 'afortunadas', 'afortunados', 'afuera', 'agachadito', 'agararon', 'agencia', 'agencias', 'ago', 'agosto', 'agradable', 'agrade', 'agradecer', 'agradecido', 'agradesco', 'agrega', 'agregamos', 'agregarle', 'agregarlo', 'agregué', 'agri', 'agua', 'aguacate', 'aguado', 'aguanta', 'aguantado', 'aguantando', 'aguantas', 'aguante', 'aguayo', 'aguire', 'agustina', 'agüita', 'ahi', 'ahogada', 'ahogarme', 'ahora', 'ahorita', 'ahoro', 'ahuevas', 'ahí', 'airbag', 'airbnb', 'aire', 'aires', 'ajaj', 'ajaja', 'ajajajaja', 'ajajajajajaj', 'ajajajajajaja', 'ajilo', 'ajisito', 'ajo', 'ajuste', 'ají', 'aki', 'ala', 'alacance', 'alado', 'alaia', 'alambrito', 'alan', 'alaska', 'albaca', 'albahaca', 'alban', 'albondigas', 'albóndigas', 'alcalina', 'alcance', 'alcanza', 'alcanzar', 'alchi', 'alcohol', 'alcoholica', 'alcolea', 'aldeila', 'ale', 'alegación', 'alegra', 'alegrar', 'alegrezco', 'alegria', 'alegría', 'alejandro', 'alelagerde', 'alerta', 'alex', 'alexander', 'alexandra', 'alexi', 'alexis', 'alexita', 'alfa', 'alfajor', 'alfajores', 'alfredo', 'algodón', 'alguien', 'alguito', 'algun', 'alguna', 'algún', 'aliada', 'aliado', 'alianza', 'alicia', 'alienta', 'aliestare', 'alimenta', 'alimentación', 'alimenticia', 'alimento', 'alimentos', 'alimetos', 'alison', 'alisonvelez', 'alistas', 'alita', 'alitas', 'aliñado', 'alma', 'almacen', 'almacenes', 'almendraspimientaetc', 'almomento', 'almuerzo', 'almuerzos', 'alquiló', 'alta', 'altas', 'alto', 'altos', 'altovoltaje', 'altura', 'alumnos', 'alv', 'alvarado', 'alvarez', 'alvear', 'alí', 'ama', 'amaba', 'amada', 'amado', 'amamos', 'amanecersobremontañas', 'amanecí', 'amante', 'amar', 'amaral', 'amare', 'amargo', 'amarguen', 'amarila', 'amarilito', 'amarilo', 'amarilos', 'amarlo', 'amarnos', 'amas', 'amañado', 'ambar', 'ambas', 'ambato', 'ambición', 'amen', 'america', 'americanas', 'americano', 'ami', 'amiga', 'amigas', 'amigo', 'amigos', 'amigs', 'amis', 'amistad', 'amistades', 'amo', 'amor', 'amorcito', 'amores', 'amoroso', 'amortiguador', 'amorzitho', 'amos', 'ampl', 'ampliando', 'ampliar', 'amplían', 'amsgasi', 'amy', 'amén', 'américa', 'ana', 'anaela', 'analítica', 'ancho', 'anchundia', 'anda', 'andaluces', 'andalucía', 'andamos', 'andando', 'anderson', 'andino', 'ando', 'andrango', 'andre', 'andrea', 'andres', 'andry', 'andré', 'andrés', 'andy', 'anecdota', 'anemix', 'anexado', 'anforasdiciendo', 'angel', 'angela', 'angelica', 'anghelina', 'angiemostruo', 'anheladoy', 'anhelo', 'ani', 'anilos', 'animadora', 'animalitos', 'animo', 'animáis', 'animás', 'anis', 'anita', 'aniversario', 'ano', 'anoche', 'ansias', 'ansiosos', 'antaño', 'antemano', 'anterior', 'anthony', 'anticruzcampo', 'anto', 'antofagasta', 'antojitos', 'antojo', 'antojos', 'anual', 'anunciando', 'anunciar', 'anuncio', 'anuncios', 'anvy', 'any', 'anzules', 'anècdotas', 'anécdota', 'anécdotas', 'apaleado', 'apanada', 'apanado', 'apanados', 'apanadura', 'aparecen', 'apariencia', 'aparte', 'apelidaras', 'aperitivos', 'apesar', 'apetece', 'aplasta', 'aplastamos', 'aplauso', 'aple', 'aplicacion', 'aplicarse', 'apliquemos', 'apliques', 'apolo', 'aporta', 'apoyan', 'apoyandome', 'apoyar', 'apoyarlos', 'apoyo', 'apreciar', 'aprendamos', 'aprender', 'aprenderás', 'aprendi', 'aprendido', 'aprendiendo', 'aprendizaje', 'aprendí', 'apretando', 'aprobado', 'aprovecha', 'aprovechando', 'aprovechar', 'apuesto', 'aque', 'aquel', 'aquelas', 'aquelo', 'aquelos', 'aqui', 'aquieler', 'aquí', 'aranca', 'arancamos', 'arancar', 'aranco', 'aranque', 'arauz', 'arbol', 'arbolito', 'arca', 'arcos', 'ardía', 'are', 'areaga', 'areas', 'areglar', 'areglos', 'arelano', 'arepienta', 'argentina', 'argumentos', 'aria', 'arias', 'ariba', 'ariendo', 'arma', 'armarlas', 'armé', 'aroma', 'aros', 'aroz', 'arrozcocido', 'arrozconcurry', 'arsa', 'arte', 'arteaga', 'artesanal', 'artesano', 'articulaciones', 'artista', 'artoz', 'asa', 'asada', 'asadero', 'asado', 'asados', 'asael', 'asar', 'asco', 'asegurado', 'aseite', 'asen', 'aser', 'aserlo', 'ases', 'asesoramiento', 'asha', 'ashley', 'asi', 'asia', 'asido', 'asiendo', 'asisaldriamos', 'asistente', 'asociación', 'asociaciónʺ', 'asociarse', 'asquerosa', 'asta', 'aste', 'astudilo', 'asunto', 'así', 'ataque', 'atencion', 'atención', 'atenta', 'atentos', 'ateradora', 'atletismo', 'atlético', 'atrape', 'atrapesos', 'atravesamos', 'atrax', 'atreve', 'atrás', 'atrévete', 'atun', 'atún', 'auchan', 'audífonos', 'aules', 'aumenta', 'aumentar', 'aun', 'aunque', 'auntable', 'auquila', 'auris', 'auspicio', 'auto', 'autobúspróximo', 'automaticamente', 'automotriz', 'automundo', 'autonomo', 'autorizados', 'autos', 'autoservicios', 'auténtica', 'autógrafos', 'avances', 'avatar', 'avelana', 'avelanas', 'avena', 'avenida', 'aver', 'avia', 'avisenme', 'avícola', 'ayacas', 'ayacucho', 'ayer', 'ayuda', 'ayudame', 'ayudan', 'ayudar', 'ayudarme', 'ayudarnos', 'ayudarte', 'ayudará', 'ayude', 'ayuden', 'ayúdame', 'ayúdanos', 'azada', 'azael', 'azar', 'azucares', 'azul', 'azules', 'azúcar', 'azúcares', 'aã', 'añade', 'añadidura', 'añadir', 'año', 'años', 'añosy', 'aún', 'babear', 'baber', 'bacan', 'back', 'backus', 'baguete', 'bai', 'baile', 'bajar', 'baje', 'bajo', 'bajonero', 'bajonesr', 'bajón', 'bakanas', 'bakanes', 'balan', 'balboa', 'balda', 'balde', 'balenita', 'baloncesto', 'balorar', 'balóndefútbol', 'banana', 'banano', 'banco', 'bandeja', 'banderaecuador', 'banderaméxico', 'banderapuertorico', 'banderazo', 'baque', 'bar', 'bara', 'baragan', 'barajas', 'barba', 'barbi', 'barboto', 'barcelona', 'barcia', 'barco', 'bareiro', 'barera', 'baril', 'bariles', 'baro', 'baros', 'barzola', 'base', 'basta', 'bastante', 'bastion', 'bastión', 'batala', 'batido', 'batidos', 'batió', 'bay', 'bazar', 'bañadas', 'bañado', 'bbq', 'beatriz', 'beba', 'bebe', 'beben', 'beber', 'beberia', 'beberme', 'bebería', 'bebes', 'bebez', 'bebi', 'bebiendo', 'bebierais', 'bebo', 'bebé', 'beicon', 'bela', 'beleza', 'belezas', 'belo', 'belota', 'beltrán', 'belém', 'belén', 'benavides', 'bendecir', 'bendiaga', 'bendiciendo', 'bendicion', 'bendiciones', 'bendicionez', 'bendicióes', 'bendición', 'bendiga', 'benditas', 'beneficien', 'beneficios', 'benicidio', 'benilda', 'berinche', 'beriso', 'bermeo', 'berones', 'beso', 'beteravas', 'bethel', 'beticoro', 'betina', 'betito', 'beto', 'bety', 'bicarbonato', 'bici', 'bicicleta', 'biejito', 'bien', 'bienen', 'bienvenida', 'bienvenidos', 'bienvenids', 'bife', 'bifet', 'big', 'bigmktonline', 'bilbao', 'bilkita', 'billeteconalas', 'billetededólar', 'bimbo', 'birita', 'bistec', 'bisutería', 'bitly', 'bitlyagenciaswestern', 'bitlyencuestafavorita', 'bitlylaacademiafavorita', 'bitlymicocinafavorita', 'bitlypizafavorita', 'bitlyregistroacademia', 'bitmakers', 'bizaro', 'black', 'blanca', 'blancas', 'blanco', 'blanda', 'blandito', 'blindada', 'block', 'blog', 'bloqueo', 'bobina', 'boca', 'bocadilos', 'bocaditos', 'bocado', 'bocanegra', 'bocata', 'boda', 'boi', 'boicot', 'bola', 'boladeconfeti', 'bold', 'bolería', 'boletos', 'boliche', 'bolitas', 'bolivia', 'bolo', 'bolon', 'bolones', 'bolos', 'boloñés', 'bolsa', 'bolsilo', 'bolsilos', 'boludo', 'bomba', 'bon', 'bonaicepara', 'bondi', 'bonila', 'bonita', 'bonito', 'bonitos', 'bordo', 'boreguiles', 'bos', 'botanas', 'botaron', 'botela', 'botelas', 'botelitas', 'botelín', 'botoms', 'botóndemarcadeverificación', 'boutique', 'bowl', 'bozadaq', 'bra', 'brahma', 'brasa', 'brasas', 'brasilera', 'bravo', 'bravura', 'brazos', 'breve', 'bridamos', 'bridan', 'brinda', 'brindado', 'brindamos', 'brindan', 'brindar', 'brindarles', 'brindarnos', 'brindo', 'briones', 'brithal', 'brithany', 'briyid', 'brochetas', 'broma', 'bronka', 'brostizado', 'browni', 'brownie', 'brownies', 'brucheta', 'brunoise', 'bruscheta', 'brusqueta', 'bryan', 'bsc', 'bt', 'bucaram', 'bucaran', 'bud', 'budesié', 'budweiser', 'bue', 'buen', 'buena', 'buenas', 'buenisimas', 'buenisimo', 'bueno', 'buenopero', 'buenos', 'buenísima', 'buje', 'bulgarin', 'bulying', 'buna', 'bura', 'burgos', 'burotaxis', 'burrito', 'busca', 'buscabdo', 'buscan', 'buscando', 'buscar', 'buscas', 'busco', 'businestdc', 'bustamante', 'butifara', 'buzónabiertoconlabanderalevantada', 'bysc', 'básicas', 'bícepsflexionado', 'cabalero', 'cabe', 'cabelo', 'cabeza', 'cabo', 'cabrea', 'cabrera', 'cabrona', 'cacao', 'cacaolat', 'cachoro', 'cacita', 'cacos', 'cada', 'caen', 'caer', 'caesar', 'cafe', 'cafetería', 'café', 'cago', 'cagua', 'caida', 'caiga', 'caja', 'cajistas', 'cajita', 'cajitas', 'cajon', 'cakes', 'calabaza', 'calabazadehalloween', 'calamar', 'calan', 'calderon', 'caldito', 'caldo', 'caldos', 'cale', 'calendario', 'cales', 'caleta', 'calidad', 'caliente', 'calientehe', 'calientito', 'calientitos', 'calor', 'calzado', 'cama', 'camara', 'camarera', 'camarero', 'camaron', 'camarones', 'camarón', 'cambia', 'cambiadas', 'cambiar', 'cambiara', 'cambiarles', 'cambiarlo', 'cambiaron', 'cambies', 'cambio', 'cambió', 'camila', 'caminaba', 'caminando', 'camino', 'camioneta', 'camisas', 'camisetas', 'camita', 'camiónarticulado', 'campana', 'campaña', 'campañas', 'campeonato', 'campeón', 'camping', 'campo', 'camry', 'can', 'canal', 'canarias', 'canario', 'canasta', 'canastas', 'candero', 'canela', 'cangrejada', 'cangrejo', 'cangrejos', 'canguilera', 'canje', 'canjear', 'canjearlas', 'canola', 'canolalogo', 'canpo', 'cansado', 'cansar', 'cantado', 'cantarbailar', 'cantidad', 'cantonada', 'capa', 'capilares', 'capital', 'capitalsimón', 'capitulo', 'captar', 'capte', 'captura', 'capturado', 'capturas', 'capucino', 'capítulo', 'car', 'cara', 'caraagotada', 'caraalrevés', 'caraangustiada', 'carababeando', 'carabesando', 'carabesandoconlosojoscerrados', 'carabesandoconojossonrientes', 'caracansada', 'caraconelceñofruncidoylabocaabierta', 'caraconmanosabrazando', 'caraconmanosobrelaboca', 'caraconojoscerradosylenguafuera', 'caraconojosenblanco', 'caraconsudorfrío', 'caracteristicas', 'caracterizarse', 'característico', 'caradealivio', 'caradecepcionada', 'caradecerdo', 'caradedesaprobación', 'caradefiesta', 'caradeperro', 'caradeporfavor', 'caradesanimada', 'caradesesperada', 'caradesueño', 'carafelizconojossonrientes', 'caragritandodemiedo', 'caraguiñandoelojo', 'carahaciendounamueca', 'carajo', 'caralanzandounbeso', 'carallorando', 'carallorandoderisa', 'carallorandofuerte', 'caramelos', 'caraneutral', 'caranza', 'carapensativa', 'carapreocupada', 'carapungo', 'cararadianteconojossonrientes', 'cararesoplando', 'cararevolviéndosedelarisa', 'caras', 'carasaboreandocomida', 'carasacandolalengua', 'carasacandolalenguayguiñandounojo', 'carasco', 'carasinexpresión', 'carasonriendo', 'carasonriendoconaureola', 'carasonriendoconcorazones', 'carasonriendoconestrellas', 'carasonriendocongafasdesol', 'carasonriendoconlosojoscerrados', 'carasonriendoconojosdecorazón', 'carasonriendoconojosgrandes', 'carasonriendoconojossonrientes', 'carasonriendoconsudorfrío', 'carasonriendoconsuperioridad', 'carasonriendoligeramente', 'carasonriente', 'carasonrojada', 'caratristeperoaliviada', 'carbo', 'carbon', 'carbona', 'carbón', 'carefour', 'carera', 'careras', 'careta', 'caretilas', 'cargil', 'carina', 'carito', 'cariño', 'carlos', 'carlota', 'carmen', 'carmita', 'carnaval', 'carne', 'carnes', 'caro', 'carola', 'carolina', 'caros', 'carpa', 'carpas', 'carta', 'carvache', 'casa', 'casada', 'casados', 'casero', 'caseros', 'casi', 'casillaconmarcadeverificación', 'casita', 'casitas', 'caso', 'casta', 'castaña', 'castilo', 'castro', 'cata', 'catador', 'catalogos', 'catando', 'categorías', 'catita', 'caucheros', 'causa', 'causará', 'cautivará', 'cayeron', 'cazorla', 'cazuela', 'caída', 'caña', 'cañas', 'cañita', 'cañóndeconfeti', 'cebola', 'ceci', 'cecibel', 'cecilia', 'cedeño', 'cegado', 'cegueno', 'ceite', 'cele', 'celebraciones', 'celebramos', 'celebran', 'celebrando', 'celebrar', 'celebrarlo', 'celi', 'celia', 'celica', 'celu', 'celular', 'celulares', 'cembrina', 'cementerio', 'cena', 'cenar', 'cenas', 'centenario', 'centro', 'centró', 'ceokiler', 'cepeda', 'cerada', 'cerado', 'cerados', 'ceramiento', 'cerando', 'cerato', 'cerca', 'cercado', 'cercam', 'cerdo', 'cereales', 'cerezo', 'cerna', 'cero', 'certeza', 'certificó', 'cervantes', 'cerveca', 'cervecero', 'cerveza', 'cervezas', 'cesar', 'cevalo', 'cevalos', 'ceviche', 'ceviches', 'chabon', 'chacra', 'chamo', 'champions', 'chance', 'chancho', 'charito', 'charla', 'chavez', 'chavistas', 'che', 'chea', 'chef', 'chefhombre', 'chefs', 'chefsito', 'chele', 'chelito', 'chelo', 'chesecakes', 'chevere', 'chevrolet', 'chica', 'chicas', 'chicharon', 'chicharones', 'chicharón', 'chico', 'chicos', 'chidas', 'chido', 'chifles', 'chikas', 'chikitap', 'chila', 'chile', 'china', 'chingando', 'chio', 'chiriboga', 'chirincirco', 'chiros', 'chispas', 'chiste', 'chivo', 'chivopolo', 'chocaron', 'choclo', 'choco', 'chocodeliciosas', 'chocolate', 'chocolates', 'chocolatito', 'chocolatosada', 'chocolatoso', 'chocotorta', 'chocó', 'choez', 'chopera', 'chorito', 'chorizo', 'chr', 'christian', 'chrysler', 'chuches', 'chuparse', 'chuzo', 'chávez', 'chèvere', 'ciclo', 'ciegas', 'cielo', 'cienpre', 'cienpuntos', 'cierto', 'ciertos', 'cincuenta', 'circo', 'circunstancia', 'ciruelas', 'ciscuntacias', 'cita', 'citar', 'citroen', 'citroneteros', 'citroën', 'ciudad', 'ciudadsi', 'cl', 'clara', 'claridad', 'clarita', 'claro', 'claroatenta', 'clase', 'clasicos', 'clavar', 'clavarme', 'clave', 'claves', 'cldo', 'clientas', 'cliente', 'clientehyundaies', 'clientes', 'clima', 'cloclito', 'clw', 'cobra', 'cobrar', 'cobraron', 'cochabamba', 'coche', 'coches', 'cocina', 'cocinado', 'cocinando', 'cocinar', 'cocinarla', 'cocinarlas', 'cocinarnos', 'cocinaro', 'cocinas', 'cocine', 'cocinero', 'cocino', 'cocion', 'coción', 'coco', 'cocoa', 'cocolon', 'cocolón', 'codigo', 'cofler', 'cogen', 'coger', 'cogieron', 'coincido', 'coja', 'cojer', 'cojones', 'cola', 'colaboración', 'colaboradores', 'colacao', 'cole', 'coleción', 'colegas', 'colesterol', 'colisión', 'colmo', 'coloca', 'colocamos', 'colocando', 'colocar', 'colocas', 'colombia', 'colombiano', 'colonizadores', 'color', 'colorada', 'colorado', 'colorcito', 'colorido', 'coloso', 'coma', 'comadre', 'comamos', 'comanse', 'combina', 'combinación', 'combinar', 'combinarlas', 'combinarlo', 'combino', 'combito', 'combos', 'come', 'comedor', 'comeis', 'comemos', 'comen', 'comensar', 'comentaremos', 'comentario', 'comentarios', 'comentarnos', 'comento', 'comenzamos', 'comenzará', 'comenzo', 'comenzó', 'comer', 'comercial', 'comerciales', 'comerlo', 'comerme', 'comerse', 'comerte', 'comes', 'comestible', 'cometo', 'comi', 'comico', 'comida', 'comidad', 'comidas', 'comidita', 'comido', 'comiendo', 'comiendola', 'comiendolo', 'comienza', 'comienzo', 'comino', 'comisatiato', 'compacto', 'compara', 'comparativa', 'compartan', 'comparte', 'compartia', 'compartido', 'compartiendo', 'compartieron', 'compartimos', 'compartir', 'compartire', 'compartiria', 'compartirla', 'compartirlo', 'compartirnos', 'compartiré', 'compartiría', 'comparto', 'compatir', 'compañeras', 'compañero', 'compañía', 'competencia', 'compis', 'complejos', 'complemento', 'completa', 'completamente', 'completar', 'completes', 'completisima', 'completo', 'completos', 'complicado', 'componentes', 'compra', 'compraba', 'comprado', 'compran', 'comprar', 'comprara', 'comprarlas', 'comprarlo', 'comprarme', 'compras', 'compre', 'compreme', 'compremos', 'compres', 'compro', 'comprobadono', 'compré', 'compró', 'compártenos', 'comsumir', 'comun', 'comunica', 'comunicación', 'comunicado', 'comunicador', 'comunicando', 'comunicar', 'comunicarles', 'comunicarte', 'comunidad', 'comunícate', 'comérmelo', 'comí', 'comía', 'comían', 'comías', 'comó', 'con', 'conbina', 'concedan', 'concedió', 'concejir', 'concejo', 'concentración', 'concentrado', 'concentrados', 'concesionario', 'concetrados', 'concha', 'conciente', 'concreto', 'concursando', 'concursar', 'concurso', 'concursos', 'condensada', 'condiciones', 'condición', 'condimentos', 'condoy', 'conduce', 'conduciendo', 'conducimos', 'conectada', 'conectarse', 'conectividad', 'conexión', 'confi', 'confianza', 'confiar', 'confidencias', 'confidente', 'configura', 'confio', 'confirm', 'confirmar', 'confirmen', 'conforman', 'conformar', 'confundir', 'congelador', 'congelar', 'congelarlo', 'congreso', 'coni', 'conida', 'conjunto', 'conla', 'conmigo', 'cono', 'conoce', 'conocer', 'conoces', 'conoci', 'conocimiento', 'conozco', 'conquista', 'conquistar', 'conseguimos', 'conseguir', 'consejo', 'consejos', 'consentir', 'conservadurismo', 'conserven', 'considero', 'consienta', 'consiente', 'consiento', 'consiga', 'consigo', 'consigue', 'consiste', 'consistencia', 'consolidan', 'consta', 'constancia', 'constante', 'constantemente', 'construcion', 'construir', 'construyen', 'consulta', 'consultorio', 'consume', 'consumidoras', 'consumidores', 'consumiendo', 'consumimos', 'consumir', 'consumo', 'contaba', 'contactados', 'contactaran', 'contacto', 'contamos', 'contando', 'contar', 'contarnos', 'conte', 'contempla', 'contenido', 'contestando', 'contestes', 'contiene', 'contigo', 'continuamos', 'continuará', 'contratar', 'contraten', 'control', 'controles', 'contruirle', 'contándonos', 'conté', 'convence', 'converso', 'convertían', 'convierte', 'convierten', 'convinarla', 'convirtió', 'conza', 'copia', 'corazon', 'corazonesgiratorios', 'corazón', 'corazónamarillo', 'corazónazul', 'corazónblanco', 'corazónbrillante', 'corazónconflecha', 'corazóncreciente', 'corazónlatiendo', 'corazónmorado', 'corazónnaranja', 'corazónrojo', 'corazónroto', 'corazónverde', 'corbiche', 'cordiales', 'cordinar', 'core', 'corea', 'coreano', 'corecta', 'corecto', 'coreo', 'coriendo', 'corilo', 'corola', 'corona', 'coronas', 'coronita', 'corporacion', 'cortar', 'cortarlo', 'cortedecarne', 'cortito', 'corto', 'coructo', 'coruña', 'corviche', 'cosa', 'cosas', 'coser', 'cosina', 'cosinar', 'cosino', 'cosita', 'costa', 'costanera', 'costeña', 'costila', 'costo', 'costra', 'cosí', 'coupe', 'cover', 'covers', 'coña', 'coñac', 'coño', 'cre', 'crean', 'creando', 'creanmelo', 'crear', 'crearon', 'creativa', 'creatividad', 'crecer', 'creciendo', 'crema', 'creme', 'cremosa', 'cremosida', 'cremosidad', 'cremosita', 'cremosito', 'cremoso', 'creo', 'crepes', 'crer', 'creta', 'creyeron', 'creó', 'cria', 'criada', 'criola', 'criolo', 'crisis', 'cristian', 'cristiana', 'cristina', 'cristy', 'cristóbal', 'critica', 'criticada', 'crocante', 'crocantitos', 'cron', 'cronistacom', 'cros', 'crostini', 'crucero', 'crudas', 'cruiser', 'crujiente', 'crujientes', 'cruz', 'cruzando', 'cruzcampo', 'cruzcampono', 'cruzcampoy', 'crystel', 'crysty', 'cse', 'ctc', 'cuadra', 'cuadritos', 'cuales', 'cualquier', 'cualquiera', 'cualquierafelicidades', 'cuanto', 'cuantos', 'cuarentena', 'cuarto', 'cuartos', 'cuatro', 'cube', 'cubierta', 'cubiertos', 'cubietos', 'cubito', 'cubitos', 'cubrir', 'cubro', 'cucalòn', 'cuchara', 'cucharada', 'cucharadita', 'cucharadotas', 'cucharas', 'cuchareando', 'cucharear', 'cuchilloytenedorconunplato', 'cucuruchodehelado', 'cuenca', 'cuenta', 'cuentas', 'cuente', 'cuentes', 'cuento', 'cuerpo', 'cuesta', 'cuestión', 'cuida', 'cuidado', 'cuidar', 'cuidarme', 'cuido', 'culantro', 'culinarios', 'culmino', 'culpa', 'culpables', 'cultura', 'culturas', 'cumaná', 'cumba', 'cumpla', 'cumplan', 'cumple', 'cumpleañero', 'cumpleaños', 'cumples', 'cumplido', 'cumpliendo', 'cumplir', 'cumplirá', 'cumplo', 'cumplí', 'cup', 'cupcake', 'cupcakeen', 'cupcakes', 'cupón', 'curable', 'curame', 'curo', 'curso', 'cuádruple', 'cuál', 'cuándo', 'cuánto', 'cuéntales', 'cuéntanos', 'cuídense', 'cuñada', 'cuñado', 'cuñis', 'cálido', 'cámaradefotos', 'cáncer', 'cápsulas', 'césar', 'círculo', 'código', 'códigos', 'cómeme', 'cómo', 'cómodo', 'cómplice', 'córdoba', 'daba', 'dado', 'daihatsu', 'daisy', 'dale', 'dama', 'dame', 'damian', 'damos', 'dan', 'dance', 'dando', 'danet', 'danete', 'daniel', 'daniela', 'dany', 'dar', 'daremos', 'darle', 'darles', 'darme', 'darnos', 'darse', 'dará', 'daría', 'das', 'dato', 'datos', 'datus', 'david', 'davis', 'dayanara', 'dañar', 'dañaron', 'dañe', 'daños', 'dddddd', 'de', 'debajo', 'debate', 'debatiendo', 'debe', 'debemos', 'deben', 'deber', 'debera', 'deberes', 'deberia', 'deberian', 'deberían', 'debes', 'debido', 'debo', 'debías', 'decaído', 'decia', 'decide', 'decidió', 'deciliosos', 'decime', 'decimelo', 'decir', 'decirle', 'decirles', 'decirlo', 'decirme', 'decirte', 'decis', 'decisión', 'declarandolo', 'declaro', 'decía', 'decían', 'dedicacion', 'dedicación', 'dedico', 'deditos', 'dedocorazónhaciaarribatonodepielclaro', 'dedos', 'dedoscruzados', 'dedoíndicehaciaarriba', 'defecto', 'definitivamente', 'defraudado', 'degalina', 'degusta', 'degustación', 'degustados', 'degustando', 'degustar', 'deja', 'dejad', 'dejado', 'dejame', 'dejamos', 'dejando', 'dejar', 'dejarles', 'dejarnos', 'dejaron', 'deje', 'dejo', 'dejáis', 'dejó', 'del', 'delante', 'delantero', 'delcid', 'deleitandonos', 'deleitare', 'deleitarse', 'delen', 'delgado', 'deli', 'delicado', 'delicia', 'delicias', 'delicio', 'deliciosa', 'deliciosamente', 'deliciosas', 'delicioso', 'deliciosos', 'delicious', 'deliculos', 'delilu', 'deliluec', 'delilujoder', 'delilù', 'delilú', 'delilús', 'delilü', 'delira', 'delisia', 'deliú', 'delmundomundial', 'delos', 'delucios', 'demas', 'demasiado', 'demora', 'demostrar', 'demostrarme', 'demostró', 'demuestra', 'demás', 'den', 'denle', 'denominación', 'dentro', 'denunció', 'depende', 'dependerá', 'dependiente', 'depiditar', 'depisitar', 'deport', 'deposita', 'depositar', 'depositarlos', 'deposite', 'depositen', 'deposito', 'depositrar', 'deposité', 'derame', 'derapa', 'derecha', 'derecho', 'deretido', 'derita', 'deritiendo', 'derito', 'derotó', 'des', 'desafiodelafavoritael', 'desafiolafavorita', 'desafíodelafavorita', 'desagrada', 'desanimaran', 'desanimes', 'desarolados', 'desarolar', 'desastre', 'desayunar', 'desayuno', 'desayunos', 'desbloquea', 'descance', 'descerebrada', 'desconectao', 'describir', 'descubre', 'descubres', 'descubrirlo', 'descubrirás', 'descubrí', 'descuida', 'dese', 'desea', 'deseada', 'deseado', 'deseamos', 'desean', 'deseando', 'desearía', 'desechables', 'desempleado', 'deseo', 'deseos', 'deses', 'deshecha', 'desmayo', 'despes', 'desprecias', 'desprenda', 'desprendible', 'desprendibles', 'despues', 'después', 'destino', 'desvela', 'detalado', 'detale', 'detales', 'detengo', 'determina', 'determinado', 'deudas', 'devertido', 'deysi', 'dhaber', 'dia', 'diadelchef', 'diagonal', 'diana', 'diaria', 'diariapor', 'diarias', 'diario', 'diarios', 'dias', 'diaz', 'dibujada', 'dibuje', 'dice', 'dicembre', 'dicen', 'dices', 'dicha', 'dicho', 'dichosos', 'diciendo', 'diciéndome', 'didactico', 'diego', 'dieron', 'dieta', 'diferencia', 'diferente', 'diferentes', 'dificil', 'difícil', 'diga', 'digame', 'digamoles', 'digan', 'digas', 'digeribles', 'digital', 'digna', 'digno', 'digo', 'digos', 'dije', 'dijeron', 'dijiste', 'dijo', 'dilema', 'dime', 'dimos', 'dinero', 'dinámica', 'dio', 'dios', 'dioses', 'diosisto', 'diosito', 'diputación', 'direciones', 'direción', 'directamente', 'directo', 'directora', 'dirhmx', 'dirán', 'diría', 'dis', 'discapacidad', 'disco', 'discule', 'disculpe', 'disculpen', 'discusión', 'diseñador', 'diseño', 'diseños', 'disfrut', 'disfruta', 'disfrutamos', 'disfrutando', 'disfrutar', 'disfrutarlo', 'disfrutas', 'disfruten', 'disfruto', 'disfrútalo', 'disfrútenla', 'disimular', 'disponen', 'disponible', 'disponibles', 'dispuesto', 'distinguirnos', 'distribuidores', 'distribuye', 'diusfrutarlo', 'diversas', 'diversos', 'divertida', 'divertidos', 'divertirte', 'divididos', 'divisaba', 'dió', 'dkgng', 'dlx', 'doble', 'docena', 'doctor', 'doctora', 'doctores', 'documentos', 'dog', 'dogs', 'dolor', 'dolorcito', 'domenica', 'domicilio', 'domingo', 'domingos', 'dominguez', 'doméstica', 'don', 'donas', 'dond', 'donde', 'donitas', 'donq', 'donthy', 'dora', 'dorada', 'doradito', 'doramos', 'doris', 'dorisita', 'doritos', 'dormidos', 'dormir', 'dormirían', 'dormiste', 'dorsodemanoconíndicealaderecha', 'dorsodemanoconíndicealaizquierda', 'dorsodemanoconíndicehaciaabajo', 'dos', 'doscorazones', 'dotes', 'douglas', 'doy', 'dsvun', 'duda', 'dudas', 'dueño', 'dulce', 'dulcecit', 'dulces', 'dulcesol', 'dupla', 'duque', 'dura', 'duran', 'durazno', 'durisoma', 'duro', 'duvalín', 'dándole', 'década', 'día', 'días', 'dónde', 'dónut', 'düseldorf', 'ecelentes', 'echa', 'echo', 'echó', 'economica', 'economista', 'economía', 'economícamente', 'económica', 'económico', 'económicos', 'ecu', 'ecuador', 'ecuatoriana', 'ecuatorianas', 'ecuatoriano', 'ecuatorianos', 'ecuavisa', 'edad', 'edgar', 'edición', 'edison', 'edpeciak', 'eduardo', 'educacion', 'edy', 'efa', 'efectivo', 'efecto', 'efectuará', 'eje', 'ejemplar', 'ejemplares', 'ejemplo', 'ejercicios', 'ejercito', 'el', 'ela', 'elaboracion', 'elaboradas', 'elaborado', 'elaborados', 'elaborarla', 'elaborará', 'elaboro', 'elaceite', 'elas', 'elasy', 'elchoco', 'elconcurso', 'eleción', 'electrónico', 'elegante', 'elegidos', 'elegimos', 'elegir', 'elegirlo', 'elegiría', 'elena', 'elenano', 'eleva', 'elevada', 'elevadoras', 'elexitocomoquisiera', 'eli', 'eliana', 'elige', 'elijas', 'elije', 'elijo', 'elimina', 'eliminar', 'eliminaremos', 'elisa', 'elizabeth', 'elizalde', 'elmotor', 'eloisa', 'elos', 'elostener', 'elq', 'elsa', 'elsi', 'elva', 'elvira', 'eléctrica', 'eléctrico', 'ema', 'embarazadas', 'embargo', 'embutidos', 'emelecista', 'emelie', 'emergencia', 'emociona', 'emocionaria', 'emoción', 'emov', 'empacadora', 'empada', 'empalagoso', 'empana', 'empanada', 'empanadas', 'empaques', 'empate', 'empatía', 'empeso', 'empezado', 'empezamos', 'empezando', 'empezar', 'empeze', 'empeña', 'empieces', 'empiesan', 'empiezan', 'empleado', 'empleados', 'empleo', 'emprendedor', 'emprendedora', 'emprendedoras', 'emprendedores', 'emprender', 'emprenderjuntar', 'emprendimiento', 'empresa', 'empresarial', 'empresarias', 'empresario', 'empresarios', 'empresas', 'en', 'ena', 'enamorada', 'enamorar', 'enamoró', 'encanta', 'encantado', 'encantadora', 'encantadísima', 'encantan', 'encantando', 'encantaria', 'encantará', 'encantaría', 'encantas', 'encantasiempre', 'encantodelilú', 'encantó', 'encargo', 'encavta', 'enceboladas', 'encebolado', 'encegida', 'encerada', 'enchufaos', 'encima', 'encocado', 'encojono', 'encontraba', 'encontrado', 'encontrar', 'encontrarás', 'encontre', 'encontré', 'encontró', 'encostra', 'encostrar', 'encuentra', 'encuentran', 'encuentras', 'encuentro', 'encuesta', 'ende', 'endulsando', 'endulza', 'endurese', 'enelado', 'enemigo', 'energía', 'energías', 'enfamilia', 'enferme', 'enfermedad', 'enfermedadnuestrarecetala', 'enfermita', 'enfocados', 'enfrentarlo', 'engaña', 'engorde', 'engracia', 'enin', 'enjugandolos', 'enlace', 'enlance', 'enlas', 'enorme', 'enpanada', 'enpanadas', 'enprender', 'enrique', 'ensala', 'ensalada', 'ensaladas', 'ensalda', 'ensamblar', 'ensamblará', 'enseña', 'enseñan', 'enseñandonos', 'enseñar', 'enseñarnos', 'enseño', 'enseñó', 'ensuavisa', 'ente', 'entel', 'entendemos', 'entender', 'entendiendo', 'entere', 'entero', 'entiendo', 'entnce', 'entonc', 'entonces', 'entra', 'entran', 'entrar', 'entrecot', 'entrega', 'entregaamistad', 'entregado', 'entregamos', 'entregan', 'entregar', 'entrenar', 'entreriano', 'entrevistas', 'entristece', 'entusiasmo', 'entérate', 'envaces', 'enviaban', 'enviado', 'enviamos', 'envian', 'enviar', 'enviaron', 'enviaste', 'envidia', 'envidiar', 'envie', 'envolverlo', 'envuelto', 'epeconomia', 'equipado', 'equipazo', 'equipo', 'equipos', 'equis', 'ere', 'ericka', 'ero', 'eror', 'es', 'escatimaré', 'escatimen', 'escenario', 'escogieron', 'escoje', 'esconder', 'escondidas', 'escondido', 'escondidos', 'escondiendo', 'escondo', 'escribe', 'escribeme', 'escribimos', 'escribirlos', 'escribirnos', 'escritor', 'escríbenos', 'escuchado', 'escuchar', 'escucharnos', 'escuela', 'escuelas', 'escuriendolos', 'escurimos', 'escuro', 'esencia', 'esenciales', 'esforzarse', 'esfuerzan', 'esfuerzo', 'esfuerzos', 'esla', 'eslogan', 'esmeraldas', 'esmeraldeñas', 'esnlo', 'espaciadores', 'espacio', 'espada', 'espadínde', 'espagueti', 'esparcir', 'españa', 'española', 'especial', 'especiales', 'especialidad', 'especialmente', 'especias', 'especie', 'especies', 'especificar', 'espectacular', 'espectaculares', 'específica', 'específicos', 'espeluznante', 'esper', 'espera', 'esperabas', 'esperamos', 'esperando', 'esperanfo', 'esperanza', 'esperar', 'esperare', 'esperaremos', 'esperas', 'esperemos', 'espero', 'esperomos', 'espesial', 'espi', 'espigadearroz', 'espinaca', 'espinoza', 'esplique', 'espléndidas', 'espos', 'esposa', 'esposito', 'esposo', 'espérala', 'espéranos', 'esquicito', 'esquina', 'est', 'estabilidad', 'estable', 'establecer', 'estacada', 'estadio', 'estafado', 'estafadores', 'estalin', 'estamos', 'estan', 'estare', 'estaria', 'estavanos', 'esteban', 'estefania', 'estefy', 'esteman', 'esten', 'esthela', 'estilado', 'estilo', 'estimada', 'estimado', 'estimados', 'estofado', 'estomago', 'estopa', 'estrategia', 'estraño', 'estrela', 'estrellabrillante', 'estrena', 'estrenar', 'estrés', 'ests', 'estube', 'estubo', 'estudiando', 'estudiar', 'estudiarloses', 'estudien', 'estudio', 'estudios', 'estupendo', 'estás', 'estómago', 'etc', 'etios', 'etiqueta', 'etiquetas', 'europa', 'eva', 'eve', 'evelyn', 'eventos', 'evidentepor', 'evita', 'evitar', 'evitarles', 'evolucionado', 'exa', 'exactamente', 'exacto', 'excelente', 'excelentes', 'exclamacióndoble', 'exclusivos', 'exelent', 'exelente', 'exelentes', 'existe', 'existiera', 'existir', 'exito', 'exitos', 'experience', 'experiencia', 'experimentar', 'expertos', 'explica', 'explocion', 'explosión', 'expropiaron', 'exquiero', 'exquisita', 'exquisitas', 'exquisito', 'exquisitoacompañado', 'exquisitos', 'extenciones', 'extender', 'extendido', 'extra', 'extraer', 'extrañe', 'extraño', 'extremadamente', 'extremos', 'fabian', 'fabiola', 'faborita', 'faboritaen', 'fabrica', 'fabricacion', 'fabricaran', 'fabricarse', 'fabricio', 'fabril', 'fabuloso', 'faceb', 'facebok', 'facial', 'facil', 'facilidad', 'facilx', 'facina', 'facinado', 'factor', 'facundo', 'fajardo', 'falabela', 'falado', 'falan', 'falece', 'falecido', 'falecio', 'faleció', 'falsa', 'falta', 'faltaba', 'faltan', 'faltar', 'falte', 'faltes', 'famila', 'familas', 'familia', 'familiahombremujerniñaniña', 'familiahombremujerniñaniño', 'familiamujermujerniñaniño', 'familiar', 'familiares', 'familias', 'famlia', 'famosa', 'famoso', 'fan', 'fanpage', 'fans', 'fantasma', 'fantastico', 'fantástico', 'fany', 'farsa', 'fascina', 'fasil', 'fausty', 'fav', 'favirita', 'favoita', 'favor', 'favorecida', 'favorecido', 'favores', 'favoreser', 'favorira', 'favorita', 'favoritabuena', 'favoritaconcentrado', 'favoritala', 'favoritano', 'favoritaparte', 'favoritas', 'favoritaspero', 'favoritatapa', 'favoritavida', 'favoritay', 'favorito', 'favoritos', 'favoritoya', 'fca', 'fea', 'febrero', 'fecha', 'fechas', 'federico', 'fef', 'felices', 'felicidad', 'felicidades', 'felicidadez', 'felicidafes', 'felicitaciones', 'felicito', 'felisitaciones', 'feliz', 'feo', 'fer', 'ferchonet', 'fernanda', 'fernandes', 'fernando', 'fernet', 'fernández', 'festejamos', 'festiva', 'festival', 'festivaldelseco', 'fetuchini', 'fiat', 'fiatchrysler', 'fideitos', 'fiel', 'fieles', 'fierero', 'fiesta', 'fiestas', 'fiestasson', 'fifa', 'figura', 'fila', 'filas', 'fileteada', 'filo', 'fin', 'fina', 'final', 'finalizó', 'financiaba', 'financiera', 'finas', 'finde', 'fines', 'fino', 'finvacaciones', 'firma', 'firman', 'fis', 'fitas', 'flaca', 'flan', 'flavorita', 'flecha', 'flechahacialaderecha', 'flor', 'flores', 'flota', 'flotante', 'flury', 'foletos', 'fondo', 'ford', 'fordhub', 'forever', 'forjar', 'forma', 'formada', 'formado', 'formamos', 'formar', 'formas', 'formato', 'formulario', 'fornite', 'fortaleza', 'foto', 'fotografía', 'fotografías', 'fotográfico', 'fotos', 'fovorita', 'fracasos', 'fraganti', 'fran', 'francesa', 'francia', 'franco', 'francés', 'franja', 'frankoventas', 'franquicia', 'frapé', 'frasco', 'frascos', 'frase', 'fredy', 'frei', 'freir', 'freirlas', 'frejol', 'frejoles', 'frenar', 'frente', 'fresa', 'fresas', 'fresca', 'frescas', 'fresco', 'fresh', 'fresquita', 'frezer', 'freírlos', 'fria', 'frie', 'frita', 'fritada', 'fritar', 'fritas', 'frito', 'fritos', 'frió', 'front', 'fructuoso', 'frutas', 'frutila', 'frutilas', 'frutos', 'fréjoles', 'fría', 'frías', 'frío', 'fuego', 'fueronos', 'fuerte', 'fuertes', 'fuertesleva', 'fuerza', 'fuerzas', 'fuetza', 'fuimos', 'ful', 'funda', 'fundación', 'fundador', 'fundamental', 'fundas', 'fundirá', 'fundita', 'fundó', 'futuro', 'fábrica', 'fácil', 'fátima', 'física', 'fórmula', 'fútbol', 'gabinete', 'gabriela', 'gabucha', 'gaby', 'gacer', 'gagar', 'galeta', 'galetas', 'galeticas', 'galetita', 'galetitas', 'galicia', 'galina', 'galinay', 'galito', 'galpón', 'gama', 'gambafrita', 'gana', 'ganado', 'ganador', 'ganadora', 'ganadoras', 'ganadores', 'ganadors', 'ganamos', 'ganancias', 'ganando', 'ganar', 'ganara', 'ganare', 'ganarme', 'ganarmelo', 'ganaron', 'ganará', 'ganaría', 'ganas', 'gancia', 'gane', 'gano', 'gansito', 'gané', 'ganó', 'garaicoa', 'garanterizada', 'garantía', 'garcia', 'garciamily', 'garzon', 'gasolina', 'gasper', 'gasta', 'gastro', 'gastronomia', 'gastronomía', 'gato', 'gatollorando', 'gatosonriendo', 'gatosonriendoconojosdecorazón', 'gatuchi', 'gaveta', 'gem', 'gema', 'genera', 'general', 'generalmente', 'genero', 'genesis', 'genial', 'geniales', 'genta', 'gente', 'geo', 'george', 'geovany', 'gerard', 'gerente', 'german', 'gesto', 'gigante', 'gigantes', 'gilda', 'gina', 'ginger', 'gioconda', 'giova', 'girasol', 'giselita', 'gladis', 'gladys', 'glenda', 'glendy', 'globoterráqueomostrandoamérica', 'gloria', 'glucosa', 'gobernantes', 'gobierno', 'golazo', 'golosina', 'golpe', 'gomitas', 'gonzale', 'gonzales', 'gonzalez', 'gonzález', 'gora', 'gorda', 'gordo', 'gordos', 'gotas', 'gotasdesudor', 'goya', 'gozar', 'gracia', 'gracias', 'graciasestaré', 'graciasjajajaja', 'graciasx', 'grade', 'graduación', 'graduados', 'gran', 'granados', 'grande', 'grandeo', 'grandes', 'grandiosos', 'graneado', 'granizadohawaiano', 'granos', 'grasa', 'grasos', 'gratis', 'gratissin', 'gratospor', 'greyjoy', 'gripe', 'gris', 'gritar', 'gritaria', 'gruesa', 'grumos', 'grupo', 'grupos', 'gsus', 'guadalupe', 'guamán', 'guanajuato', 'guapa', 'guapisima', 'guapo', 'guardada', 'guardar', 'guardias', 'guardálo', 'guaris', 'guatita', 'guau', 'guayacos', 'guayaquil', 'guayaquilquisiera', 'guerera', 'guerero', 'guiado', 'guilermo', 'guimos', 'guineo', 'guiso', 'guisos', 'guitarra', 'gusta', 'gustaba', 'gustan', 'gustar', 'gustaria', 'gustarme', 'gustaría', 'gustas', 'gustavo', 'gustavosam', 'guste', 'gustito', 'gusto', 'gustó', 'guzman', 'guía', 'guíe', 'gym', 'gálvez', 'gánate', 'gástrica', 'haber', 'haberle', 'haberprimero', 'habia', 'habiamos', 'habilidades', 'habituales', 'habla', 'hablada', 'hablame', 'hablan', 'hablando', 'hablar', 'hables', 'habra', 'hace', 'hacemos', 'hacen', 'hacendado', 'hacendosas', 'hacer', 'hacerla', 'hacerle', 'hacerles', 'hacerlo', 'hacerlos', 'hacerme', 'hacernos', 'hacerse', 'hacerte', 'haces', 'hacia', 'haciendo', 'hacs', 'haga', 'hagamos', 'hagan', 'hago', 'hagámoslo', 'haiti', 'hala', 'half', 'halo', 'halowen', 'hambre', 'hamburguesa', 'hamburguesas', 'hanar', 'hanaska', 'haoan', 'hapy', 'hare', 'harina', 'hará', 'haré', 'haría', 'has', 'hashtag', 'haso', 'havia', 'hawaiana', 'hawaina', 'hawiana', 'hay', 'hayi', 'hecha', 'hechas', 'hecho', 'hechos', 'hei', 'heidye', 'heineken', 'heinekenyo', 'helada', 'heladera', 'helado', 'helados', 'helen', 'helena', 'hemoso', 'heredarme', 'hermana', 'hermanas', 'hermanita', 'hermano', 'hermanos', 'hermosa', 'hermoso', 'hermosos', 'hernana', 'hernández', 'heros', 'hervida', 'hey', 'hice', 'hicieron', 'hicimos', 'hiciste', 'hidrógeno', 'hierbas', 'hierva', 'hija', 'hijas', 'hijitas', 'hijo', 'hijos', 'hijosfamilia', 'hijospero', 'hijosy', 'hilo', 'hilux', 'hincha', 'hinojosa', 'hiper', 'hirviendo', 'historia', 'hize', 'hizo', 'hizos', 'hlx', 'hna', 'hno', 'hocico', 'hogar', 'hogares', 'hoja', 'hojas', 'hojitas', 'hokey', 'hola', 'holandesa', 'holvi', 'hombre', 'hombrehaciendoelgestodedeacuerdotonodepielclaro', 'hombres', 'homogénea', 'honesta', 'honey', 'honor', 'honrados', 'hora', 'horario', 'horas', 'horibles', 'hormigas', 'hornado', 'horneaditos', 'horno', 'horor', 'hortalizas', 'hostal', 'hot', 'hotcakes', 'hour', 'house', 'hoy', 'hoyos', 'htp', 'hueca', 'huelas', 'huellasdepezuñas', 'huellasdepies', 'hueso', 'huesos', 'huevito', 'huevo', 'huevola', 'huevos', 'huevossopa', 'hugo', 'humano', 'humanos', 'humilde', 'humildes', 'humitas', 'humor', 'huntarlo', 'huratdo', 'hyundai', 'hábiles', 'hágase', 'héctor', 'hércules', 'héroes', 'híbrido', 'híbridos', 'iba', 'idea', 'ideal', 'ideales', 'identidad', 'identifico', 'idiota', 'ido', 'idolo', 'iglesias', 'ignorante', 'igual', 'igualar', 'igualmente', 'ileana', 'ilusión', 'imagen', 'imaginate', 'imagínate', 'imginar', 'impactada', 'impartiendo', 'imperfecto', 'imperial', 'impero', 'importa', 'importante', 'importantes', 'importar', 'imposible', 'impresionantemente', 'impresiones', 'impresora', 'improvisar', 'impuestos', 'inauguración', 'incendio', 'incentivar', 'incentivaria', 'incentiven', 'incluso', 'incomparable', 'incompetentes', 'incondicional', 'inconveniente', 'inconvenientes', 'incorporada', 'increible', 'incrementar', 'increíble', 'increíbles', 'independencia', 'indicados', 'indicarme', 'indignación', 'indio', 'indirectas', 'indiscreta', 'industria', 'ineresa', 'inesita', 'infaltable', 'infantil', 'inferiores', 'infinita', 'infinito', 'influir', 'info', 'infor', 'información', 'informarnos', 'informen', 'inglés', 'ingredien', 'ingrediente', 'ingredientes', 'ingresa', 'ingresando', 'ingresar', 'ingrese', 'ingresen', 'ingreso', 'ingresá', 'ingrid', 'inicia', 'inicial', 'inician', 'iniciando', 'iniciarán', 'iniciativa', 'inicio', 'inicios', 'inició', 'iniguable', 'inigualable', 'injusto', 'inmersivo', 'inorancia', 'inovador', 'inovadora', 'inscribir', 'inscribirme', 'inscribirse', 'inscribirte', 'inscripción', 'inscrita', 'inscríbete', 'insisto', 'insomnio', 'inspira', 'inspiró', 'instagram', 'instalaciones', 'instalo', 'instruyase', 'insumos', 'insuperable', 'insípida', 'integra', 'integral', 'integrales', 'integramos', 'integrante', 'intenso', 'intenta', 'intentado', 'intentalo', 'intentarlo', 'intentaré', 'intento', 'intercambiar', 'intercambio', 'interesa', 'interesante', 'intergrar', 'interior', 'interminablesy', 'internacional', 'internet', 'interno', 'intriago', 'introducirse', 'inténtelo', 'invencible', 'invento', 'inversión', 'invertiria', 'invertirá', 'invertirás', 'invierno', 'invit', 'invita', 'invitamos', 'invitan', 'invitana', 'invitar', 'inviteme', 'invito', 'invité', 'inyectarle', 'inés', 'iorena', 'ipapale', 'iphone', 'ireaiatible', 'irene', 'iresistible', 'iresponsables', 'irlanda', 'irma', 'irme', 'iré', 'iría', 'isa', 'isabel', 'isla', 'italian', 'italianos', 'iv', 'ivan', 'iveth', 'izquierda', 'izquierdos', 'jachero', 'jacquelin', 'jacqueline', 'jacquita', 'jactan', 'jadore', 'jaja', 'jajaj', 'jajaja', 'jajajaj', 'jajajaja', 'jajajajaj', 'jajajajaja', 'jajajajajaja', 'jajajajajajajajaja', 'jajajajajajajajajajajaja', 'jajajajajajajajajajajajaja', 'jamas', 'jamie', 'jamon', 'jamás', 'jamón', 'janesita', 'janeth', 'japon', 'japonesas', 'japón', 'jara', 'jaramilo', 'jarin', 'jarradecerveza', 'jarrasdecervezabrindando', 'javier', 'jazmín', 'jean', 'jefe', 'jeferson', 'jehova', 'jeje', 'jejeje', 'jejejeje', 'jente', 'jeny', 'jenyfer', 'jerez', 'jesica', 'jesus', 'jesy', 'jet', 'jevas', 'jhany', 'jhoana', 'jhormel', 'jijiji', 'jijijiji', 'jimy', 'jinez', 'jirasol', 'jjajs', 'joan', 'jodido', 'jodo', 'joe', 'joel', 'joha', 'johana', 'johanes', 'johanita', 'jonathan', 'jor', 'jordy', 'jorge', 'jorma', 'jornada', 'josafat', 'jose', 'josed', 'joseph', 'josue', 'josué', 'josé', 'journey', 'joven', 'jovovich', 'juan', 'juanchezco', 'juego', 'juegos', 'jueves', 'jugar', 'jugaron', 'jugo', 'jugos', 'jugosa', 'jugoso', 'juguito', 'juimos', 'juleidy', 'julia', 'juliana', 'julio', 'jumbo', 'jungla', 'junior', 'junta', 'juntar', 'juntas', 'junto', 'juntos', 'juro', 'justamente', 'justo', 'juzgamos', 'jóvenes', 'karaoke', 'karem', 'karen', 'karencita', 'kari', 'karim', 'karina', 'karla', 'karo', 'karwn', 'kat', 'kata', 'katherine', 'katia', 'katy', 'kdelicia', 'keda', 'keila', 'keiner', 'kelogs', 'kely', 'kenia', 'kerida', 'kerly', 'key', 'keylor', 'khe', 'kia', 'kiacon', 'kiara', 'kiateinforma', 'kiennoa', 'kieran', 'kiero', 'kilo', 'kinder', 'kiosco', 'kiosko', 'kisiera', 'kit', 'kitkats', 'kius', 'kiwi', 'kiza', 'knjear', 'kuenta', 'kumpla', 'la', 'laacademialafavorita', 'label', 'laboral', 'laboran', 'lactal', 'ladines', 'lado', 'lados', 'ladpo', 'ladronas', 'ladrones', 'lafaborita', 'lafavorita', 'lafavoritaec', 'lager', 'lago', 'laight', 'laje', 'lalis', 'lama', 'lamada', 'lamando', 'lamar', 'lamaremos', 'lamarlo', 'lamboneria', 'lame', 'lamen', 'lamentable', 'lamento', 'lamo', 'lamáis', 'lanciafiat', 'land', 'lanza', 'lanzamiento', 'lanzar', 'lanzarán', 'lanzo', 'lareami', 'larecetadelexito', 'largo', 'las', 'lasambajara', 'lasaña', 'lascano', 'laso', 'lastimosamente', 'lata', 'latacunga', 'latas', 'late', 'laterales', 'latita', 'latitas', 'laura', 'laurel', 'laurita', 'lavada', 'lavanderia', 'lavaxora', 'laves', 'lavo', 'lay', 'lazaro', 'lazañas', 'lea', 'league', 'lebas', 'leche', 'lechuga', 'leciones', 'ledoy', 'leencanta', 'lega', 'legaba', 'legada', 'legadas', 'legado', 'legadoravoy', 'legan', 'legando', 'legar', 'legaron', 'legas', 'legiao', 'legión', 'lego', 'legua', 'legue', 'leguen', 'legumbres', 'legumgres', 'leidy', 'lejos', 'lena', 'lenando', 'lenar', 'lengua', 'lenito', 'lenleja', 'leno', 'lenos', 'lentejas', 'leonel', 'leonela', 'leonidas', 'leonor', 'ler', 'lesbiano', 'lesly', 'lesviano', 'leticia', 'letra', 'letrero', 'lety', 'leva', 'levado', 'levaduraa', 'levan', 'levantamos', 'levantando', 'levantarme', 'levantarse', 'levanto', 'levar', 'levarpor', 'levas', 'leve', 'lever', 'levo', 'levé', 'levó', 'lexus', 'ley', 'leyenda', 'leyendo', 'leí', 'libertad', 'libre', 'libres', 'libros', 'liciadad', 'licores', 'liderando', 'lidia', 'lidl', 'ligando', 'ligero', 'ligh', 'light', 'like', 'liliam', 'lilian', 'liliana', 'limitada', 'limon', 'limpiare', 'limpiarlo', 'limpieza', 'limpios', 'limpió', 'limón', 'lina', 'linda', 'lindera', 'lindo', 'lindos', 'line', 'lingh', 'link', 'liquidos', 'lis', 'lisbeth', 'liset', 'lisete', 'lisi', 'lista', 'listas', 'listo', 'literal', 'litro', 'litros', 'lix', 'lizeth', 'llamamiento', 'llegaba', 'llegamos', 'llego', 'llenar', 'llevamos', 'llevare', 'lo', 'loa', 'lobo', 'local', 'locales', 'loco', 'locos', 'locrito', 'locro', 'locros', 'logo', 'logotipo', 'logrado', 'lograr', 'lograria', 'lograrlo', 'lograrás', 'logre', 'logreen', 'logro', 'logré', 'logró', 'loja', 'lojanos', 'lok', 'lokes', 'lol', 'lola', 'loly', 'lomaximo', 'lomo', 'londres', 'longoria', 'lopez', 'loq', 'lor', 'lora', 'loran', 'lorar', 'lore', 'loreal', 'lorena', 'lorenzo', 'loriquear', 'loris', 'loro', 'los', 'loteria', 'lotería', 'louis', 'lourdes', 'lousa', 'lovoy', 'loza', 'lucha', 'luchado', 'luchador', 'luchadora', 'luchadoras', 'luchando', 'luchar', 'luchas', 'lucho', 'luchona', 'lucirá', 'lucrecia', 'lucy', 'luego', 'luevan', 'lugar', 'lugares', 'luis', 'luisconocer', 'luisy', 'luli', 'lulita', 'luna', 'lunch', 'lunes', 'lunita', 'luque', 'luvias', 'luz', 'lwvan', 'lácteos', 'lágrima', 'lámpara', 'lápiz', 'láser', 'léanlo', 'lévate', 'líderes', 'límites', 'línea', 'lópez', 'lúpulo', 'mabel', 'mac', 'macas', 'macias', 'macrina', 'madmax', 'madre', 'madrecita', 'madreela', 'madres', 'madresita', 'madrid', 'maduro', 'maduros', 'maestra', 'maestro', 'maestros', 'mafernanda', 'maga', 'magia', 'magnate', 'mahou', 'majada', 'majado', 'majito', 'mal', 'mala', 'malas', 'malcriada', 'maldad', 'maldita', 'malecón', 'maletero', 'malo', 'malos', 'malroc', 'malvavisco', 'malvaviscos', 'malísima', 'mama', 'mamacita', 'mames', 'mami', 'mamita', 'mams', 'mamá', 'man', 'manaba', 'manabita', 'manabitaes', 'manabitas', 'manabí', 'manchamos', 'manda', 'mandamos', 'mandando', 'mandar', 'mandaron', 'mande', 'mandes', 'mando', 'manejalo', 'manejar', 'manera', 'maneras', 'manga', 'manhatan', 'mani', 'mania', 'manifiestate', 'manis', 'manjar', 'mano', 'manoconseñaldevictoria', 'manoconseñaldevictoriatonodepielclaro', 'manohaciendoelsignodecuernos', 'manolevantada', 'manos', 'manosabiertas', 'manosaplaudiendo', 'manosaplaudiendotonodepielclaro', 'manosaplaudiendotonodepielclaromedio', 'manosaplaudiendotonodepielmedio', 'manosaplaudiendotonodepieloscuromedio', 'manosenoración', 'manoslevantadascelebrando', 'manoslevantadascelebrandotonodepielclaro', 'manoslevantadascelebrandotonodepielclaromedio', 'manta', 'manteca', 'mantendrá', 'mantener', 'mantenerla', 'mantenía', 'mantequila', 'mantiene', 'mantila', 'mantuvo', 'manualidades', 'manuel', 'manuela', 'manzanalafavorita', 'manzanita', 'maní', 'maquilaje', 'maravila', 'maravilas', 'maravilo', 'maravilosa', 'maravilosas', 'maraviloso', 'marbila', 'marca', 'marcadebeso', 'marcador', 'marcan', 'marcas', 'marcelita', 'marcelo', 'marcha', 'marcia', 'margarina', 'margarita', 'maria', 'marian', 'mariana', 'maricela', 'maricruz', 'marido', 'mariela', 'marihuana', 'marilin', 'marina', 'marinar', 'marinela', 'marinero', 'mario', 'mariposas', 'marisco', 'mariscos', 'marisol', 'marisqueria', 'maritza', 'mariu', 'mariuxi', 'mariñas', 'marjorie', 'market', 'marketing', 'marlene', 'marta', 'martes', 'martha', 'marthy', 'marty', 'maru', 'marvin', 'mary', 'maría', 'maríángel', 'mas', 'masa', 'mascamos', 'maslindo', 'matar', 'mataron', 'mateo', 'materia', 'material', 'mato', 'matricula', 'matrix', 'matriz', 'maximo', 'may', 'maydeth', 'mayeli', 'mayonesa', 'mayor', 'mayores', 'mayorista', 'mayoritariamente', 'mayoría', 'mayra', 'maythe', 'mayu', 'maíz', 'mañana', 'mañanas', 'mccarthy', 'mcflury', 'me', 'meado', 'meados', 'meao', 'mecanismo', 'mecánica', 'medala', 'medalas', 'medalita', 'medalladeoro', 'medalones', 'media', 'medias', 'medida', 'medidas', 'medidor', 'medina', 'medio', 'medios', 'mega', 'megustan', 'mejor', 'mejora', 'mejore', 'mejores', 'mejoria', 'mejorparticipando', 'mejunje', 'mejía', 'meli', 'melina', 'melisa', 'melita', 'melizita', 'melo', 'melocos', 'meloso', 'meló', 'meme', 'memoria', 'mena', 'mendieta', 'mendoza', 'menestra', 'meno', 'menor', 'menos', 'mensaje', 'mensajes', 'mente', 'mentes', 'mentey', 'mentira', 'menuda', 'menú', 'mera', 'mercado', 'merced', 'mercedes', 'mercy', 'merecen', 'mereces', 'meremos', 'merezca', 'merienda', 'mery', 'mes', 'mesa', 'mesas', 'meses', 'meseta', 'meta', 'metas', 'mete', 'meter', 'meterla', 'metia', 'metido', 'meto', 'mexicano', 'mezcla', 'mezcladas', 'mezclado', 'mezclamo', 'mezclamos', 'mezclar', 'mezclarlo', 'mezclas', 'mflury', 'mi', 'mia', 'michael', 'michas', 'michele', 'micro', 'midulcedelilú', 'miedito', 'miedo', 'miel', 'miento', 'mientras', 'mierda', 'mierdas', 'miga', 'migas', 'miguel', 'miguellaimon', 'mija', 'mijas', 'mil', 'mila', 'milagro', 'milagrosa', 'milanesa', 'milde', 'miler', 'milhouse', 'milka', 'milkacadbury', 'milkala', 'milkaoreo', 'milonario', 'milones', 'milshake', 'mimadre', 'mimadrecita', 'mina', 'mindo', 'mini', 'minibocata', 'minmami', 'minuto', 'mio', 'mios', 'mira', 'mirando', 'mirar', 'mire', 'miren', 'miriam', 'miré', 'misericordia', 'misha', 'mishima', 'misma', 'mismas', 'mismo', 'mismos', 'mistad', 'misteriosa', 'mitad', 'mitades', 'mitsubishi', 'mix', 'mixta', 'mixto', 'miy', 'mjohanys', 'mndo', 'modelo', 'modesta', 'modula', 'modular', 'modulo', 'mofongos', 'mojada', 'mojadito', 'moky', 'mola', 'molde', 'moldes', 'moler', 'molida', 'molina', 'momento', 'momentos', 'moncada', 'moncerate', 'monica', 'monikita', 'monito', 'monoconlabocatapada', 'monoconlosojostapados', 'monotematico', 'monotonía', 'monovolumen', 'monse', 'monserate', 'monstruos', 'montamos', 'montana', 'montar', 'monte', 'montecristi', 'montenegro', 'monterey', 'montes', 'mora', 'morales', 'moran', 'morante', 'moreira', 'moreno', 'morimos', 'morir', 'moro', 'morocho', 'moros', 'mortal', 'mosa', 'mosco', 'mosqueda', 'mosquera', 'mostaza', 'motivacion', 'motivo', 'motivos', 'motomachi', 'motor', 'motors', 'mouse', 'moveos', 'mover', 'movilidad', 'movimiento', 'movistar', 'mozarela', 'mucha', 'muchachas', 'muchachos', 'muchas', 'muchines', 'muchis', 'muchisimad', 'muchisimas', 'muchoi', 'muchísima', 'muchísimas', 'muchísimo', 'mudas', 'muele', 'mueras', 'muere', 'muero', 'muertas', 'muerte', 'mujer', 'mujerbailando', 'mujerbailandotonodepielclaro', 'mujerconlamanoenlafrente', 'mujerencogidadehombros', 'mujeres', 'mujertonodepielclaromedio', 'mujeryhombredelamano', 'multan', 'multiplicadla', 'multis', 'mundial', 'mundo', 'murilo', 'murio', 'murió', 'musica', 'muslodepollo', 'mustard', 'muy', 'muñoz', 'myriam', 'mágico', 'málaga', 'máquina', 'máximo', 'méxico', 'mëlïsä', 'míni', 'mínimo', 'mítico', 'módulo', 'módulos', 'mónica', 'música', 'músicos', 'nacional', 'nacionalidad', 'nació', 'nación', 'nada', 'nadanadita', 'nadie', 'nadita', 'nancy', 'nancyta', 'naranjadas', 'narativos', 'narcisa', 'narcy', 'nariz', 'nathalie', 'nathaly', 'natural', 'navidad', 'navideña', 'navideño', 'nayeli', 'nazaré', 'necesaria', 'necesarias', 'necesario', 'necesidad', 'necesidades', 'necesita', 'necesitaba', 'necesitamos', 'necesitan', 'necesitando', 'necesitas', 'necesiten', 'necesito', 'necesitándo', 'ned', 'negociaciones', 'negociado', 'negocian', 'negocio', 'negocios', 'negociosacar', 'negoció', 'negra', 'negrita', 'negritos', 'negro', 'negros', 'neisi', 'nelci', 'nelita', 'nelys', 'nena', 'nenes', 'neny', 'nere', 'nervios', 'nespreso', 'nesquik', 'nestor', 'neutro', 'nevera', 'nevá', 'new', 'neytan', 'nico', 'nicole', 'nicolás', 'niemar', 'nieta', 'nietas', 'nietita', 'nieto', 'nietos', 'nieve', 'nike', 'nimauto', 'ninfa', 'ninguna', 'ninguno', 'ningún', 'niro', 'nisan', 'nito', 'nitro', 'niuno', 'nivel', 'nivela', 'niveles', 'niña', 'niñas', 'niñato', 'niño', 'niños', 'nińa', 'no', 'noche', 'noches', 'noe', 'nombre', 'nombres', 'nop', 'norma', 'normal', 'normita', 'norte', 'nosabe', 'nosostros', 'nostros', 'not', 'nota', 'notamusical', 'notasmusicales', 'noticia', 'noticias', 'notificados', 'notita', 'novela', 'novelas', 'novia', 'novilo', 'novio', 'nro', 'ntvg', 'nubla', 'nueces', 'nuera', 'nuestas', 'nuestr', 'nuestrarecetalafavorita', 'nueva', 'nuevamente', 'nuevas', 'nuevo', 'nuevos', 'numero', 'nunca', 'nutela', 'nutelaxd', 'nutrientes', 'nutritiva', 'nutritivo', 'nutritivos', 'néstor', 'número', 'oalgun', 'oara', 'obligaciones', 'obra', 'obro', 'obsequiar', 'obsequio', 'observa', 'obstáculos', 'obtener', 'obviamente', 'obvio', 'ocacion', 'ocacionados', 'ocasiones', 'ocasión', 'ocho', 'ocion', 'ocon', 'octaba', 'octava', 'octavos', 'oculta', 'oculto', 'ocupa', 'odio', 'odysey', 'oferta', 'ofertas', 'ofi', 'oficial', 'oficialmente', 'oficina', 'ofrece', 'ofrecerles', 'ofreciendoles', 'ofrecía', 'ofreser', 'ogala', 'ohese', 'ojala', 'ojalá', 'ojedamarcos', 'ojito', 'ojo', 'ojos', 'oka', 'ola', 'olaja', 'oler', 'olguita', 'olimpia', 'olita', 'oliva', 'olivo', 'olivos', 'olladecomida', 'olor', 'olvera', 'olvidate', 'olvides', 'olvido', 'olvidé', 'ome', 'omega', 'omego', 'omidas', 'opcion', 'opción', 'operacion', 'opinar', 'opinion', 'opiniones', 'opinión', 'opino', 'oportunidad', 'oportunidadmis', 'ops', 'optimismo', 'optimista', 'optimizar', 'opto', 'oración', 'orala', 'orden', 'orelana', 'oreo', 'oreos', 'organizacion', 'orgulo', 'orgulosamente', 'orguloso', 'orible', 'original', 'originalmente', 'originaria', 'oro', 'ortiz', 'orégano', 'orígenes', 'oscar', 'oscuro', 'osea', 'osito', 'otravez', 'overlock', 'oxidacion', 'oxidación', 'oxide', 'oye', 'pablo', 'pacheco', 'paciencia', 'paciente', 'pacientemente', 'pack', 'packs', 'padila', 'padre', 'padreesposohijoamigo', 'padres', 'padrino', 'paela', 'paella', 'paga', 'pagaba', 'pagado', 'pagar', 'pago', 'paine', 'pais', 'paises', 'pal', 'palabra', 'palabras', 'paladar', 'palamecia', 'palio', 'palma', 'palodecorazones', 'palomitas', 'pame', 'pamelita', 'pan', 'pana', 'panadero', 'panadería', 'panas', 'pancakes', 'pancaks', 'pancho', 'pancito', 'pandemia', 'panela', 'panes', 'panificación', 'pankey', 'panquecas', 'panquecitos', 'panqueque', 'panqueques', 'panquesitos', 'pantala', 'pantalón', 'panza', 'panzote', 'paola', 'papa', 'papas', 'papel', 'papi', 'papijoe', 'papitas', 'papitaspara', 'papito', 'papá', 'papánoel', 'paquete', 'par', 'paralelo', 'parales', 'paranoid', 'parar', 'paraíso', 'parece', 'parecido', 'pareció', 'parecían', 'pared', 'paredes', 'pareja', 'parejaenamorada', 'parejita', 'paren', 'parila', 'parilada', 'pariladas', 'parilero', 'paris', 'parmesano', 'parque', 'parquear', 'parte', 'partes', 'participa', 'participació', 'participación', 'participan', 'participando', 'participantes', 'participar', 'participare', 'participas', 'participe', 'participen', 'participes', 'participo', 'particular', 'partido', 'partir', 'parz', 'pasa', 'pasaba', 'pasada', 'pasado', 'pasamos', 'pasando', 'pasar', 'pasaron', 'pasas', 'pascual', 'pase', 'paseo', 'pasion', 'pasiva', 'pasión', 'paso', 'pasos', 'pasreles', 'pasta', 'pastas', 'pastel', 'pasteleria', 'pastelería', 'pasteles', 'pastor', 'pasó', 'pata', 'patacones', 'patatasfritas', 'patcones', 'patente', 'patio', 'pato', 'patriada', 'patricia', 'patricio', 'patrocinado', 'patrocinaría', 'patrocinio', 'paty', 'paula', 'paulina', 'pauta', 'pava', 'pavo', 'pavos', 'payasa', 'payaso', 'paz', 'pazmiño', 'país', 'países', 'pañalera', 'pearl', 'pechuga', 'pechuguitas', 'peco', 'pedacitos', 'pedazo', 'pedazos', 'pedcadi', 'pedi', 'pedian', 'pediatra', 'pedido', 'pedidos', 'pedimos', 'pedir', 'pedirle', 'pedo', 'pedro', 'pedroweider', 'pedí', 'pedían', 'pegar', 'pego', 'pegándole', 'pekes', 'pelar', 'pelea', 'peleado', 'pelear', 'peli', 'peliamos', 'pelicula', 'peliculas', 'peligro', 'pelos', 'peloso', 'pelucas', 'peluquería', 'película', 'películas', 'pena', 'penas', 'pendiente', 'pene', 'peninsula', 'pensaba', 'pensamiento', 'pensamientos', 'pensamos', 'pensando', 'pensar', 'pensarlo', 'pense', 'pensemos', 'pensé', 'peomocio', 'peor', 'pepa', 'pepsi', 'peque', 'pequeno', 'pequeña', 'pequeñas', 'pequeñitos', 'pequeño', 'pequeños', 'pequeňo', 'pera', 'peralta', 'percebera', 'percebes', 'perder', 'perderme', 'perdi', 'perdida', 'perdio', 'perdiz', 'perdomo', 'perdon', 'perdone', 'perdí', 'perdón', 'perejil', 'perez', 'perfecta', 'perfecto', 'perfectos', 'perfil', 'periodismo', 'perjil', 'permita', 'permitido', 'permitirnos', 'peroni', 'perores', 'perritocaliente', 'perserverancia', 'perserverar', 'persevera', 'perseverancia', 'perseverante', 'persona', 'personaconlamanolevantada', 'personacorriendo', 'personahaciendounareverencia', 'personaje', 'personajes', 'personal', 'personales', 'personalidad', 'personalmente', 'personarecibiendomasajetonodepielclaro', 'personas', 'personasconorejasdeconejo', 'personassuerte', 'personitas', 'pertenezco', 'perturbador', 'peru', 'perú', 'pesantes', 'pesantez', 'pesar', 'pescado', 'pescados', 'pese', 'peso', 'petición', 'petita', 'peugeot', 'peugeotdel', 'pez', 'pezo', 'peña', 'peñafiel', 'phone', 'picaba', 'picada', 'picadito', 'picaditos', 'picanteria', 'picnic', 'picrlo', 'pidan', 'pide', 'piden', 'pidiendo', 'pidieron', 'pidio', 'pidiéndole', 'pido', 'piedad', 'piede', 'piel', 'piensa', 'piensan', 'pienso', 'pienzo', 'pierda', 'pierdan', 'pierdas', 'pierde', 'pierden', 'pierdo', 'piesa', 'pieza', 'pilar', 'pilas', 'pile', 'piloso', 'pily', 'pimiebta', 'pimienta', 'pimiento', 'pimientos', 'pinargote', 'pincay', 'pinche', 'pinta', 'pionce', 'piqueos', 'pis', 'piscina', 'piscis', 'piso', 'pista', 'pistacho', 'pistola', 'pistones', 'pitaya', 'pito', 'piza', 'pizaro', 'pizas', 'piña', 'placas', 'placer', 'plan', 'plancha', 'planear', 'planeta', 'planta', 'plantaer', 'planteado', 'plasman', 'plastico', 'platano', 'platilo', 'platilos', 'plato', 'platos', 'play', 'playa', 'playas', 'playlist', 'plaza', 'plazo', 'plena', 'plenamente', 'plis', 'pluas', 'plural', 'plástica', 'plátano', 'pmi', 'pobrar', 'pobre', 'pobres', 'pocas', 'pocolámanos', 'pocoosea', 'pocos', 'podamos', 'podemos', 'poder', 'poderme', 'podia', 'podio', 'podria', 'podrá', 'podrás', 'podré', 'podría', 'podía', 'podían', 'pola', 'policial', 'polito', 'polo', 'polodesafiodelafavorita', 'poloretolafavorita', 'polémica', 'pondre', 'pondremos', 'pondria', 'pone', 'ponemos', 'ponen', 'poner', 'ponerle', 'ponerlo', 'ponerlos', 'ponerme', 'ponernos', 'pones', 'pongame', 'pongas', 'pongo', 'poniendo', 'ponle', 'ponlo', 'ponme', 'pop', 'popu', 'poquito', 'por', 'porciones', 'porción', 'porf', 'porfa', 'porfavor', 'porfin', 'porfis', 'pork', 'porq', 'porqué', 'porsche', 'porsus', 'porvenir', 'poser', 'posibilidad', 'posibilidades', 'posible', 'posición', 'positiva', 'positivo', 'post', 'postizos', 'postre', 'postres', 'postventa', 'posupuesto', 'pote', 'potencial', 'pou', 'pozo', 'pra', 'practicamente', 'practico', 'practicá', 'prado', 'precio', 'precios', 'precisa', 'precoupes', 'precursor', 'prefencia', 'preferencia', 'preferida', 'preferido', 'preferidos', 'preferirnos', 'prefieren', 'prefieres', 'prefiero', 'pregunta', 'preguntas', 'pregunte', 'preguntita', 'pregunto', 'preguntó', 'premio', 'premios', 'preocupado', 'preocupamos', 'preocupante', 'preocupe', 'preocupen', 'preocupes', 'prepara', 'preparaba', 'preparacion', 'preparaciones', 'preparación', 'preparada', 'preparadas', 'preparado', 'preparamos', 'preparan', 'preparando', 'preparar', 'prepararlas', 'prepararlo', 'prepararnos', 'prepararte', 'preparará', 'prepararé', 'prepararía', 'preparaste', 'prepare', 'preparen', 'preparo', 'preparsndo', 'preparó', 'prepáralo', 'preselecinados', 'presentaciones', 'presentadora', 'presentando', 'presentarán', 'presente', 'presentes', 'presento', 'presentó', 'preservar', 'presidenciales', 'presidente', 'prest', 'presta', 'prestigiosa', 'presumen', 'pretzel', 'previamente', 'previsiones', 'previsión', 'prima', 'primer', 'primera', 'primero', 'primeros', 'primordial', 'princesa', 'principiante', 'principio', 'pringles', 'prioridades', 'prisci', 'priscila', 'priz', 'pro', 'proace', 'prob', 'probada', 'probadita', 'probado', 'probamos', 'probar', 'probarla', 'probarlo', 'probarlos', 'probe', 'problema', 'problemas', 'probé', 'procesando', 'proceso', 'producen', 'produciendo', 'produción', 'producto', 'productolafavoritaec', 'productos', 'profe', 'profesionales', 'profesionalizarla', 'programa', 'programar', 'prohibido', 'promo', 'promocion', 'promociona', 'promocional', 'promociones', 'promoción', 'promomo', 'pronto', 'pronóstico', 'propaganda', 'propi', 'propia', 'propias', 'propio', 'propios', 'propongamos', 'propongo', 'proporcionará', 'proporcionen', 'propuesta', 'propuestas', 'propósito', 'prospere', 'protagonismo', 'protagonistas', 'proteciones', 'proteja', 'protestando', 'proteína', 'provedor', 'proviene', 'provincia', 'provincias', 'provoca', 'proxima', 'proximante', 'proximo', 'proyecto', 'proyectos', 'prubenlo', 'pruductos', 'prueba', 'pruebas', 'pruéabala', 'pruébala', 'pruébalo', 'pruébalos', 'práctica', 'práctico', 'príncipe', 'próxim', 'próxima', 'próximamente', 'próximas', 'próximo', 'próximos', 'psa', 'psji', 'ptoductos', 'publica', 'publicaciones', 'publicación', 'publicado', 'publicamente', 'publicar', 'publicaremos', 'publicarlo', 'publicarán', 'publicasion', 'publicidad', 'publicidades', 'publicó', 'publiquen', 'publícarlo', 'pude', 'pudiera', 'pudieron', 'pudo', 'pueblo', 'pueda', 'puedan', 'puedas', 'puede', 'pueden', 'puedendecir', 'puedes', 'puedo', 'puerta', 'pues', 'puesta', 'puesto', 'puestos', 'puleva', 'pulgarhaciaarriba', 'pulgarhaciaarribatonodepielclaro', 'pulpitos', 'pulpo', 'punto', 'puntos', 'pura', 'pure', 'pureza', 'puro', 'puré', 'puse', 'pusimos', 'puso', 'puta', 'puteo', 'puto', 'puñeta', 'puñoenalto', 'pyefe', 'página', 'pásate', 'pérez', 'pídelo', 'póngame', 'pósito', 'qcumplan', 'qda', 'qdelicia', 'qerico', 'qro', 'qsj', 'qual', 'que', 'queahora', 'queda', 'quedaba', 'quedamos', 'quedan', 'quedar', 'quedaran', 'quedaria', 'quedaron', 'quedarse', 'quedará', 'quedarán', 'quedaría', 'quede', 'queden', 'quedo', 'quedé', 'quedó', 'queja', 'quejándote', 'queremos', 'querian', 'querida', 'querido', 'queridos', 'quería', 'quesito', 'queso', 'quezada', 'quiengano', 'quiera', 'quieras', 'quiere', 'quieren', 'quieres', 'quieri', 'quiero', 'quilmes', 'quinoa', 'quinua', 'quiroz', 'quise', 'quisera', 'quisiera', 'quisiéramos', 'quiso', 'quitan', 'quitarme', 'quite', 'quito', 'quièn', 'quién', 'qué', 'qye', 'race', 'rach', 'raciones', 'radiactiva', 'radiante', 'radica', 'radicales', 'radiografía', 'radler', 'rafaela', 'rajandote', 'ralado', 'ramirez', 'ramiro', 'ramodeflores', 'ramona', 'ranch', 'ranchaderezolafavotita', 'random', 'rangel', 'ranking', 'rapaditas', 'rapidita', 'rapiditas', 'rapido', 'rasch', 'raspadita', 'raspaditas', 'raspar', 'raspe', 'ratas', 'rato', 'rav', 'raviolis', 'raymond', 'raza', 'razonamos', 'razones', 'razón', 'raíces', 'read', 'real', 'realce', 'realicé', 'realidad', 'realizar', 'realizara', 'realizará', 'realmente', 'realza', 'reamo', 'reb', 'rebanada', 'rebanadas', 'rebeca', 'recarga', 'receptado', 'receta', 'recetas', 'recetascalientes', 'reciban', 'recibas', 'reciben', 'recibido', 'recibidos', 'recibir', 'recibirla', 'recidido', 'recien', 'recipiente', 'recién', 'reclama', 'recogí', 'recomendaciones', 'recomendación', 'recomendado', 'recomendó', 'recomienda', 'recomiendo', 'reconocida', 'recontra', 'recortes', 'rectificamos', 'rectificar', 'recuerda', 'recuerden', 'recuerdo', 'recupera', 'recuperando', 'recuperaron', 'recurso', 'recursos', 'redes', 'redonda', 'reduce', 'reducir', 'reduzca', 'referencia', 'refieres', 'refil', 'refiriéndose', 'reflejo', 'reflexionar', 'reflexión', 'refrescándome', 'refri', 'refrito', 'regalar', 'regalaran', 'regale', 'regalo', 'regaños', 'regionales', 'registar', 'registrado', 'registrarlos', 'registrarme', 'registrate', 'registre', 'registro', 'regrese', 'regístrate', 'regístrense', 'reina', 'relacion', 'relación', 'relajarme', 'relena', 'relenar', 'relenas', 'releno', 'relenos', 'relojería', 'remaladora', 'remodelar', 'remojadito', 'remojado', 'remojandolos', 'remojar', 'remojo', 'remover', 'remueve', 'renault', 'rendimiento', 'rendirnos', 'rendirse', 'rene', 'renovada', 'renovamos', 'rentables', 'renueva', 'reparar', 'repartieron', 'repectar', 'repetir', 'repetire', 'repisa', 'repitonel', 'report', 'reposado', 'reposteria', 'reprodución', 'repuesta', 'repuestos', 'repugnante', 'requeremos', 'requerimiento', 'requeté', 'requiera', 'res', 'rescatar', 'reseque', 'reserva', 'reseta', 'resetas', 'resfrito', 'resgritoacademia', 'resignacion', 'resistirse', 'respectivas', 'respeto', 'respetos', 'respondan', 'responder', 'respondiendo', 'responsable', 'respuesta', 'respuestas', 'restad', 'restauración', 'restaurant', 'restaurante', 'restaurantes', 'restaurats', 'resto', 'resulta', 'resultado', 'resultados', 'retiramos', 'retirar', 'reto', 'retweted', 'reuniendo', 'reuniones', 'reunir', 'reunirnos', 'reunión', 'reuní', 'reutilizables', 'revisa', 'revisar', 'revisen', 'revistas', 'revoltilo', 'revolviendo', 'revuelto', 'rexvile', 'rey', 'reyes', 'reyml', 'reztaurante', 'reía', 'reír', 'riazor', 'rica', 'ricardo', 'ricas', 'rich', 'richard', 'rico', 'ricon', 'ricorefrito', 'ricos', 'ricoó', 'ridiculo', 'rik', 'rika', 'rikisimo', 'rikisisimos', 'riko', 'rinde', 'rio', 'rios', 'ripley', 'riquisima', 'riquisimas', 'riquisimo', 'riquisimos', 'riquísima', 'riquísimas', 'riquísimo', 'riquísimos', 'risa', 'risas', 'rita', 'ritual', 'rivas', 'rivaspriscila', 'rivasroxana', 'rivassandy', 'riñones', 'riñón', 'roba', 'robalino', 'robar', 'robara', 'robarlo', 'robarme', 'robo', 'rocha', 'rociar', 'rocio', 'rocklets', 'rocíogracias', 'rodando', 'rodas', 'rodríguez', 'roig', 'rojilo', 'rojo', 'roldos', 'romantica', 'rome', 'romeo', 'romero', 'rompe', 'rompiendo', 'ronal', 'ronquidos', 'rony', 'ropa', 'ropita', 'ros', 'rosa', 'rosado', 'rosales', 'rosana', 'rosario', 'roselena', 'rosi', 'rosita', 'rostros', 'roundysalud', 'roxanamarthadentro', 'rubia', 'ruby', 'ruego', 'rugby', 'ruiz', 'ruta', 'ruth', 'rutina', 'rábano', 'rápida', 'rápidas', 'rápido', 'récord', 'río', 'sabados', 'sabastian', 'sabe', 'sabeis', 'sabemos', 'saben', 'saber', 'sabes', 'sabiduría', 'sabiendo', 'sabio', 'sabor', 'saborear', 'saboreo', 'sabores', 'sabras', 'sabrina', 'sabrosa', 'sabrositolucha', 'sabroso', 'sabrás', 'sabía', 'sabían', 'saca', 'sacar', 'sacare', 'sacarlo', 'sacarlos', 'sacaron', 'sacas', 'sachet', 'sachets', 'saciedad', 'sackium', 'saga', 'sahona', 'sahyra', 'sal', 'sala', 'salada', 'saladita', 'salario', 'salas', 'salazar', 'salcan', 'salchicha', 'salchichon', 'salchichón', 'salcuando', 'saldariaga', 'saldremos', 'sale', 'salen', 'sales', 'salga', 'salgan', 'salgas', 'salgo', 'sali', 'salida', 'salido', 'salieran', 'salimos', 'salio', 'salir', 'salió', 'salsa', 'salsapara', 'salsas', 'saltado', 'saltases', 'salud', 'saludable', 'saludablemente', 'saludables', 'saludado', 'saludara', 'saluditos', 'saludjdomingomc', 'saludos', 'salvado', 'salvar', 'salí', 'samana', 'san', 'sana', 'sanchez', 'sancocho', 'sandler', 'sandra', 'sandrita', 'sanduches', 'sanduhes', 'sandwis', 'sandy', 'sango', 'sangre', 'sanguchito', 'sanguito', 'sano', 'santa', 'santacruz', 'santiago', 'santicimo', 'santisima', 'santos', 'saquen', 'sara', 'sarai', 'sargadelos', 'sarita', 'saritama', 'sarta', 'sarten', 'sartén', 'sasi', 'satisfacer', 'satisfechos', 'saturdays', 'saul', 'savedra', 'savina', 'sazonar', 'sazono', 'sazony', 'sazón', 'schneider', 'se', 'seasoning', 'sebita', 'seción', 'seco', 'secofestivaldelseco', 'secos', 'secreto', 'secretos', 'sector', 'sectores', 'secuencia', 'sed', 'sedan', 'sedanes', 'sedán', 'seguimos', 'seguir', 'seguire', 'seguirnos', 'seguirte', 'seguiré', 'segunda', 'segundas', 'segundo', 'segura', 'seguridad', 'seguro', 'seguros', 'según', 'seis', 'selada', 'selado', 'selan', 'selar', 'selecinada', 'selecionados', 'seleción', 'selfies', 'selo', 'semana', 'semanas', 'seminario', 'sencila', 'sencilamente', 'senora', 'sensaciones', 'sensación', 'sensation', 'sentada', 'sentarse', 'sentimiento', 'sentimos', 'sentir', 'sentirse', 'separa', 'separarse', 'separatista', 'sepultura', 'sequito', 'ser', 'sera', 'seran', 'sercomo', 'sere', 'serena', 'seres', 'sergio', 'seria', 'serie', 'serum', 'servicio', 'servir', 'servirles', 'servirlonada', 'servitje', 'servía', 'será', 'sesión', 'severa', 'sevila', 'sevilana', 'sevilanas', 'señal', 'señaldeaprobaciónconlamano', 'señaldeaprobaciónconlamanotonodepielclaro', 'señor', 'señora', 'señoras', 'señores', 'sgte', 'shel', 'shirley', 'shoping', 'show', 'sicario', 'sicuando', 'sido', 'siemore', 'siemp', 'siempre', 'siendo', 'sientan', 'sientes', 'siento', 'siera', 'siga', 'sigan', 'sige', 'siglo', 'significa', 'significado', 'significando', 'sigo', 'sigue', 'siguiendo', 'siguiente', 'siguientes', 'silas', 'silva', 'silvana', 'silvia', 'similar', 'simple', 'simplemente', 'simples', 'sin', 'sinai', 'sinalin', 'sincebolista', 'sincera', 'sindical', 'singer', 'sino', 'sinteticos', 'sirva', 'sirve', 'sirven', 'sirvo', 'sistema', 'sitio', 'situacion', 'situación', 'sixto', 'slente', 'slim', 'snacks', 'sobrantes', 'sobreconflecha', 'sobres', 'sobresitos', 'sobretodo', 'sobrevivencia', 'sociales', 'sociedad', 'socios', 'sodio', 'sofrito', 'soja', 'sol', 'sola', 'solange', 'solar', 'soledad', 'solhambrefrio', 'solicitados', 'solidaria', 'solidaridad', 'solis', 'solita', 'solitario', 'solito', 'solo', 'solomilo', 'solorzano', 'solprendida', 'solpresa', 'solucionar', 'solucionarlo', 'solución', 'sombra', 'sonar', 'sonará', 'sonia', 'sonriendo', 'sonrisa', 'sony', 'sopa', 'sopastortas', 'sopay', 'sopita', 'soportar', 'sor', 'soraya', 'sordas', 'sorento', 'sorprende', 'sorpresa', 'sorpresas', 'sorpreso', 'sorpréndete', 'sorteada', 'sorteado', 'sortean', 'sorteanmientras', 'sortearemos', 'sorteo', 'sorteos', 'sorteosya', 'sory', 'sos', 'sostener', 'sostenible', 'soul', 'soya', 'soñado', 'soñadora', 'soñando', 'soñaste', 'spa', 'space', 'sped', 'sponsor', 'sportage', 'sposo', 'sra', 'sres', 'sresfavorita', 'srs', 'ssi', 'stalkers', 'stand', 'standares', 'stefania', 'stefany', 'stefy', 'stela', 'stinger', 'stoy', 'stranger', 'stratergoris', 'stëfy', 'suabe', 'suarez', 'suaré', 'suave', 'suaves', 'suban', 'sube', 'subi', 'subiendo', 'subimos', 'subir', 'subirlo', 'subió', 'subo', 'subproductos', 'subí', 'sucedió', 'sucedáneo', 'sucre', 'suegra', 'suegro', 'sueldo', 'sueldos', 'sueltito', 'suena', 'suerte', 'sueña', 'sueño', 'sueños', 'sufren', 'sugerencia', 'sule', 'suma', 'sumamente', 'sumerge', 'sumidoregara', 'suministro', 'sumo', 'super', 'superando', 'superarse', 'superbowl', 'superficie', 'superfivie', 'superior', 'supermaxi', 'supermercado', 'supermercados', 'supero', 'supo', 'supoesto', 'supradyn', 'supuesto', 'supueto', 'sur', 'surge', 'surte', 'surtidito', 'sus', 'susa', 'susan', 'susana', 'suspender', 'sustento', 'sustitución', 'suzuki', 'sylvia', 'sábado', 'sábanas', 'sáenz', 'séquito', 'síguenos', 'símbolodeenfado', 'síntesis', 'sódico', 'sólo', 'súper', 'tabajar', 'tabernas', 'tabletadechocolate', 'taco', 'tacos', 'tacu', 'tag', 'tajonar', 'tal', 'talarin', 'talarines', 'talarín', 'talento', 'talentos', 'taler', 'talibanes', 'talvez', 'tamales', 'tamb', 'tambien', 'tambiendeberia', 'tambièn', 'tambn', 'tampoco', 'tan', 'tanbien', 'tania', 'tantas', 'tantiene', 'tantos', 'tanvien', 'tanya', 'tapa', 'tapado', 'taparla', 'tapas', 'tapaspalabra', 'tapias', 'tapitas', 'taradelases', 'taralo', 'tarde', 'tardes', 'target', 'tarito', 'tarjetas', 'tartadecumpleaños', 'tas', 'tathy', 'taty', 'tatyanita', 'tavares', 'taynys', 'taza', 'tazas', 'tazóndefideos', 'te', 'teatro', 'tebebrosa', 'tec', 'tecate', 'techo', 'tecnicas', 'tecnología', 'tejida', 'tejidos', 'teleférico', 'teléfono', 'tema', 'temporada', 'temporadas', 'temporal', 'tendre', 'tenebroso', 'tenedor', 'tenedorycuchillo', 'teneniamos', 'tener', 'tenerla', 'tenerlos', 'tenerte', 'tenia', 'tenias', 'tentacion', 'tentación', 'tento', 'tentó', 'tequila', 'tercel', 'tercer', 'tercera', 'tercero', 'tercio', 'tercios', 'tere', 'teremoto', 'terenal', 'tereno', 'teresa', 'terezita', 'terible', 'terios', 'termina', 'terminal', 'terminan', 'terminand', 'terminar', 'terminaron', 'termino', 'terminos', 'terminé', 'terminó', 'terner', 'ternura', 'tesis', 'tesla', 'tesoro', 'test', 'testa', 'textura', 'that', 'the', 'thiago', 'thup', 'tia', 'tibio', 'ticket', 'tidavia', 'tido', 'tidos', 'tiempi', 'tiempo', 'tiempoinauguración', 'tienda', 'tiendas', 'tienden', 'tiendita', 'tieneny', 'tiera', 'tigrero', 'tigse', 'tijera', 'tilo', 'time', 'timo', 'tionesquick', 'tip', 'tipa', 'tipeja', 'tipico', 'tipo', 'tipos', 'tips', 'tira', 'tirador', 'tiro', 'tiró', 'tisne', 'toca', 'tocan', 'tocino', 'toco', 'tocó', 'toda', 'todabia', 'todas', 'todavia', 'todavía', 'toditos', 'todods', 'todopoderoso', 'todos', 'todotereno', 'toke', 'tol', 'tom', 'toma', 'tomador', 'toman', 'tomando', 'tomar', 'tomaremos', 'tomarla', 'tomarse', 'tomarte', 'tomaré', 'tomate', 'tome', 'tomen', 'tomo', 'tonga', 'tonica', 'tonto', 'tony', 'top', 'toples', 'toque', 'toquecito', 'tore', 'tores', 'torontegui', 'torta', 'tortas', 'tortila', 'tortilas', 'tortita', 'tosino', 'toso', 'tosta', 'tostada', 'tostadas', 'tostadito', 'tostado', 'tostar', 'tostitos', 'total', 'totalmente', 'tour', 'tourer', 'tovar', 'toy', 'toyota', 'toyotamex', 'toyozuki', 'trabaja', 'trabajaba', 'trabajador', 'trabajadora', 'trabajadoras', 'trabajadorasbendiciones', 'trabajadores', 'trabajamos', 'trabajan', 'trabajando', 'trabajar', 'trabajemos', 'trabajo', 'tractora', 'tradicion', 'tradicional', 'tradición', 'trae', 'traeme', 'traer', 'traerá', 'tragar', 'trago', 'traiga', 'trail', 'trajo', 'tramitame', 'tranca', 'tranqui', 'tranquila', 'tranquilos', 'trans', 'transmision', 'transmisión', 'transmitirá', 'trasera', 'trasero', 'trata', 'tratamientos', 'tratan', 'tratando', 'trato', 'traume', 'travez', 'través', 'trayendo', 'trazar', 'traían', 'traído', 'tre', 'tremenda', 'tremendo', 'tres', 'tributo', 'trigo', 'triple', 'triste', 'tristes', 'tristezas', 'triunfo', 'trocear', 'trocitos', 'trofeo', 'tronchasde', 'tronos', 'tropa', 'troya', 'trozodetarta', 'trozos', 'truco', 'trufas', 'trump', 'tréboldecuatrohojas', 'tu', 'tuan', 'tubo', 'tucson', 'tuesta', 'tui', 'tuitazo', 'tulcan', 'tumba', 'tuper', 'turno', 'tuson', 'tuti', 'tutú', 'tuvimos', 'twiter', 'twits', 'técnica', 'técnicas', 'término', 'términos', 'tía', 'tío', 'típica', 'típico', 'tóxicos', 'ubago', 'ube', 'ubicadas', 'ubicar', 'ubila', 'ubique', 'udi', 'uds', 'uefa', 'uhm', 'ultima', 'umber', 'un', 'unas', 'unen', 'unfolow', 'unha', 'unico', 'unidad', 'unidas', 'unido', 'unidos', 'uniforme', 'unio', 'union', 'unior', 'unito', 'unión', 'unocero', 'unomásuno', 'untable', 'untada', 'untandolo', 'untarlo', 'unto', 'update', 'urbana', 'urdesa', 'ureta', 'uruguay', 'usa', 'usado', 'usadoeste', 'usados', 'usamos', 'usando', 'usar', 'usarlas', 'usará', 'use', 'usemos', 'uso', 'usos', 'usted', 'ustedes', 'usuarios', 'utilicé', 'utilidades', 'utiliza', 'utilizamos', 'utilizando', 'utilizar', 'utilizo', 'utilizó', 'utuliza', 'uum', 'uvas', 'uwu', 'vaca', 'vacaciones', 'vacante', 'vacios', 'vacío', 'vaina', 'vainas', 'vainila', 'vais', 'valadolid', 'valdivia', 'valdivieso', 'valdria', 'vale', 'valentin', 'valentina', 'valeria', 'valido', 'valiente', 'valiosa', 'valor', 'valoran', 'valores', 'vamo', 'vamod', 'vamos', 'van', 'vanesa', 'vargas', 'variableslo', 'variada', 'varias', 'variedad', 'varios', 'varones', 'varón', 'vas', 'vaso', 'vasos', 'vaya', 'vayamos', 've', 'vea', 'vean', 'veas', 'veces', 'vecinos', 'vegetal', 'vegetales', 'vehículo', 'vehículodeportivoutilitario', 'vehículos', 'vejez', 'velarte', 'vemo', 'vemos', 'ven', 'vencida', 'vencidas', 'vende', 'vendeb', 'venden', 'vender', 'vendersus', 'vendes', 'vendia', 'vendicion', 'vendido', 'vendo', 'vendopermuto', 'venezolana', 'venezuela', 'venga', 'vengan', 'vengas', 'vengo', 'venir', 'venta', 'ventas', 'venturoso', 'venís', 'veo', 'ver', 'vera', 'veran', 'veraneantes', 'verdad', 'verdadera', 'verdadero', 'verdaderos', 'verdaders', 'verde', 'verdesoto', 'verduras', 'vergara', 'vergüenza', 'verifica', 'verle', 'verles', 'verlo', 'vero', 'veronica', 'versiones', 'versión', 'verso', 'verte', 'verónica', 'ves', 'vestida', 'vestidita', 'vete', 'vevo', 'vez', 'viajado', 'viajar', 'viaje', 'viajemos', 'viajes', 'vicente', 'viche', 'vicky', 'victoria', 'vida', 'vidas', 'video', 'videos', 'vieja', 'viejo', 'viendo', 'viene', 'vienen', 'vienesa', 'viernes', 'vieron', 'vigente', 'vigo', 'vilacres', 'vilage', 'vilalta', 'vilamar', 'vilanueva', 'vilareal', 'vilegas', 'vilma', 'vimos', 'vinagre', 'vinagreta', 'vinces', 'vino', 'vinos', 'vinueza', 'violencia', 'viraron', 'virgen', 'virginia', 'virtualfelicidades', 'virtud', 'vision', 'visita', 'visitar', 'visitas', 'visite', 'visió', 'vista', 'viste', 'visto', 'visítanos', 'vitalia', 'viva', 'vive', 'viven', 'viveres', 'viviana', 'vivianita', 'vivienda', 'viviendo', 'vivimos', 'vivir', 'vivo', 'vivos', 'voces', 'vodka', 'voi', 'voluntad', 'volver', 'volvió', 'volvían', 'vomitiva', 'vos', 'voy', 'vsj', 'vudú', 'vuelo', 'vueltas', 'vuelto', 'vuelva', 'vuelve', 'vuelven', 'vusta', 'válida', 'vía', 'víaláctea', 'víctor', 'vídeo', 'vídeos', 'wacademialafavoritacomec', 'waesberghe', 'wafles', 'walmart', 'wao', 'warsteiner', 'wasteiner', 'wawsberghe', 'web', 'wendy', 'wesly', 'wester', 'western', 'westerunion', 'what', 'wheno', 'whiskey', 'who', 'wilem', 'wiliam', 'wiliams', 'wilson', 'wisky', 'wlafabrilcomectrabajophp', 'wlbicho', 'wody', 'wou', 'wow', 'wrc', 'wrcar', 'wtucasalafabrilcomec', 'wuao', 'wuester', 'xasi', 'xavier', 'xdxd', 'xerez', 'xfavor', 'xfis', 'xiomara', 'xiomy', 'xli', 'xmuchos', 'xoxo', 'xqyo', 'xsara', 'ya', 'yadira', 'yael', 'yaf', 'yameme', 'yanez', 'yapa', 'yapingacho', 'yaris', 'yatekomo', 'yay', 'yayi', 'ycuando', 'yejorar', 'yelita', 'yelixa', 'yendo', 'yesenia', 'yiyi', 'ynat', 'yogur', 'yogures', 'yohandry', 'yolanda', 'yoly', 'yolys', 'yomira', 'york', 'ypf', 'yuca', 'yumi', 'yungaicela', 'yupi', 'zadana', 'zahoria', 'zaida', 'zambrano', 'zambranoninfa', 'zamora', 'zanahoria', 'zasca', 'zavala', 'zfhc', 'zico', 'zoila', 'zona', 'zory', 'zulay', 'zuleika', 'zuliana', 'zumos', 'ácidos', 'ámbitos', 'ánforas', 'ángel', 'árbitro', 'árbol', 'árboldenavidad', 'área', 'áreas', 'ése', 'ésta', 'éste', 'ésto', 'éxito', 'éxitos', 'ídolo', 'ñaño', 'ñetos', 'óscar', 'última', 'último', 'única', 'únicas', 'único', 'ŕecetaparaelexitofamiliar', 'ʺnegocios']\n"
     ]
    }
   ],
   "source": [
    "print(vect1.get_feature_names()) #one hot encoding?"
   ]
  },
  {
   "cell_type": "code",
   "execution_count": 23,
   "metadata": {},
   "outputs": [],
   "source": [
    "from sklearn.feature_extraction.text import TfidfTransformer\n",
    "tfidf = TfidfTransformer()\n",
    "X_train = tfidf.fit_transform(X_train)\n",
    "X_test = tfidf.transform(X_test)\n",
    "X_train = X_train.toarray()\n",
    "X_test = X_test.toarray()"
   ]
  },
  {
   "cell_type": "code",
   "execution_count": 24,
   "metadata": {
    "scrolled": true
   },
   "outputs": [
    {
     "name": "stdout",
     "output_type": "stream",
     "text": [
      "(3560, 6925)\n",
      "(1526, 6925)\n",
      "(3560,)\n",
      "(1526,)\n"
     ]
    }
   ],
   "source": [
    "print(X_train.shape)\n",
    "print(X_test.shape)\n",
    "print(y_train.shape)\n",
    "print(y_test.shape)"
   ]
  },
  {
   "cell_type": "code",
   "execution_count": 25,
   "metadata": {},
   "outputs": [
    {
     "data": {
      "text/plain": [
       "array([[0., 0., 0., ..., 0., 0., 0.],\n",
       "       [0., 0., 0., ..., 0., 0., 0.],\n",
       "       [0., 0., 0., ..., 0., 0., 0.],\n",
       "       ...,\n",
       "       [0., 0., 0., ..., 0., 0., 0.],\n",
       "       [0., 0., 0., ..., 0., 0., 0.],\n",
       "       [0., 0., 0., ..., 0., 0., 0.]])"
      ]
     },
     "execution_count": 25,
     "metadata": {},
     "output_type": "execute_result"
    }
   ],
   "source": [
    "X_train"
   ]
  },
  {
   "cell_type": "raw",
   "metadata": {},
   "source": [
    "Reducción de dimensionalidad\n",
    "La dimensionalidad de los datos se refiere al número de atributos o variables de entrada que describen cada registro en los datos. De esta manera, es muy importante aplicar la reducción de dimensionalidad o la reducción del número de atributos para el procesamiento de un conjunto de datos de alta dimensión (Song et.al, 2013). Para este modelo se implemento la siguiente técnica de reducción de dimensionalidad:\n",
    "\n",
    "Singular Value Decomposition (SVD): Es una técnica que se utiliza para descomponer una matriz en varias matrices componentes más pequeñas o en un número menor de factores (factorización), conservando la información más importante de la matriz original (Ientilucci, 2003)."
   ]
  },
  {
   "cell_type": "code",
   "execution_count": 26,
   "metadata": {},
   "outputs": [],
   "source": [
    "# CHOOSE K\n",
    "from sklearn.preprocessing import StandardScaler\n",
    "from sklearn.decomposition import TruncatedSVD\n",
    "from scipy.sparse import csr_matrix\n",
    "from sklearn import datasets\n",
    "import pandas as pd "
   ]
  },
  {
   "cell_type": "code",
   "execution_count": 27,
   "metadata": {},
   "outputs": [],
   "source": [
    "digits = X_train\n",
    "\n",
    "# Standardize the feature matrix\n",
    "X = StandardScaler().fit_transform(digits.data)\n",
    "\n",
    "# Make sparse matrix\n",
    "X_sparse = csr_matrix(X)"
   ]
  },
  {
   "cell_type": "code",
   "execution_count": 28,
   "metadata": {},
   "outputs": [
    {
     "data": {
      "text/plain": [
       "6924"
      ]
     },
     "execution_count": 28,
     "metadata": {},
     "output_type": "execute_result"
    }
   ],
   "source": [
    "X_sparse.shape[1]-1"
   ]
  },
  {
   "cell_type": "code",
   "execution_count": 29,
   "metadata": {},
   "outputs": [],
   "source": [
    "# Create and run an TSVD with one less than number of features\n",
    "tsvd = TruncatedSVD(n_components=X_sparse.shape[1]-1)\n",
    "X_tsvd = tsvd.fit(X)"
   ]
  },
  {
   "cell_type": "code",
   "execution_count": 30,
   "metadata": {},
   "outputs": [],
   "source": [
    "# List of explained variances\n",
    "tsvd_var_ratios = tsvd.explained_variance_ratio_"
   ]
  },
  {
   "cell_type": "code",
   "execution_count": 31,
   "metadata": {},
   "outputs": [],
   "source": [
    "# Create a function\n",
    "def select_n_components(var_ratio, goal_var: float) -> int:\n",
    "    # Set initial variance explained so far\n",
    "    total_variance = 0.0\n",
    "    \n",
    "    # Set initial number of features\n",
    "    n_components = 0\n",
    "    \n",
    "    # For the explained variance of each feature:\n",
    "    for explained_variance in var_ratio:\n",
    "        \n",
    "        # Add the explained variance to the total\n",
    "        total_variance += explained_variance\n",
    "        \n",
    "        # Add one to the number of components\n",
    "        n_components += 1\n",
    "        \n",
    "        # If we reach our goal level of explained variance\n",
    "        if total_variance >= goal_var:\n",
    "            # End the loop\n",
    "            break\n",
    "            \n",
    "    # Return the number of components\n",
    "    return n_components"
   ]
  },
  {
   "cell_type": "code",
   "execution_count": 32,
   "metadata": {},
   "outputs": [
    {
     "data": {
      "text/plain": [
       "2324"
      ]
     },
     "execution_count": 32,
     "metadata": {},
     "output_type": "execute_result"
    }
   ],
   "source": [
    "# Run function\n",
    "select_n_components(tsvd_var_ratios, 0.95)"
   ]
  },
  {
   "cell_type": "code",
   "execution_count": 33,
   "metadata": {},
   "outputs": [
    {
     "data": {
      "text/plain": [
       "TruncatedSVD(n_components=5, n_iter=7, random_state=42)"
      ]
     },
     "execution_count": 33,
     "metadata": {},
     "output_type": "execute_result"
    }
   ],
   "source": [
    "# Se aplica la reduccion de dimensionalidad mediante la tecnica SVD\n",
    "from sklearn.decomposition import TruncatedSVD\n",
    "from scipy.sparse import random as sparse_random\n",
    "svd = TruncatedSVD(n_components=5, n_iter=7, random_state=42)\n",
    "svd.fit(X_train)"
   ]
  },
  {
   "cell_type": "code",
   "execution_count": 34,
   "metadata": {},
   "outputs": [],
   "source": [
    "# Se establece el numero de componentes e iteraciones para el SVD\n",
    "svd = TruncatedSVD(n_components=4000, n_iter=7, random_state=42)\n",
    "svd.fit(X_train)\n",
    "percent_variance_retained = svd.explained_variance_ / np.sum(svd.explained_variance_)\n",
    "cumulative_variance_retained = np.cumsum(percent_variance_retained)"
   ]
  },
  {
   "cell_type": "code",
   "execution_count": 35,
   "metadata": {
    "scrolled": true
   },
   "outputs": [
    {
     "data": {
      "image/png": "[encoded data removed]",
      "text/plain": [
       "<Figure size 720x432 with 1 Axes>"
      ]
     },
     "metadata": {
      "needs_background": "light"
     },
     "output_type": "display_data"
    }
   ],
   "source": [
    "import matplotlib.pyplot as plt\n",
    "plt.figure(1, figsize=(10, 6))\n",
    "plt.clf()\n",
    "plt.plot(cumulative_variance_retained, linewidth=2)\n",
    "plt.axis('tight')\n",
    "plt.grid()\n",
    "plt.xlabel('Number of Components')\n",
    "plt.ylabel('Cumulative variance Retained')\n",
    "plt.show()"
   ]
  },
  {
   "cell_type": "code",
   "execution_count": 36,
   "metadata": {},
   "outputs": [],
   "source": [
    "# Se determina el numero de componentes en base a la curva \n",
    "NComponents = 2297\n",
    "svd = TruncatedSVD(n_components=NComponents, n_iter=7, random_state=42)\n",
    "X_svd_train = svd.fit_transform(X_train)\n",
    "X_svd_test = svd.transform(X_test)"
   ]
  },
  {
   "cell_type": "code",
   "execution_count": 37,
   "metadata": {
    "scrolled": true
   },
   "outputs": [
    {
     "name": "stdout",
     "output_type": "stream",
     "text": [
      "(3560, 2297)\n",
      "(1526, 2297)\n",
      "(3560,)\n",
      "(1526,)\n"
     ]
    }
   ],
   "source": [
    "print(X_svd_train.shape)\n",
    "print(X_svd_test.shape)\n",
    "print(y_train.shape)\n",
    "print(y_test.shape)"
   ]
  },
  {
   "cell_type": "code",
   "execution_count": 38,
   "metadata": {},
   "outputs": [],
   "source": [
    "#Optimización de Hiperparmetros"
   ]
  },
  {
   "cell_type": "code",
   "execution_count": 39,
   "metadata": {},
   "outputs": [],
   "source": [
    "# accuracy on testing\n",
    "#svc.score(X_svd_test, y_test)"
   ]
  },
  {
   "cell_type": "code",
   "execution_count": 41,
   "metadata": {},
   "outputs": [
    {
     "name": "stdout",
     "output_type": "stream",
     "text": [
      "# Tuning hyper-parameters for precision\n",
      "\n"
     ]
    },
    {
     "name": "stderr",
     "output_type": "stream",
     "text": [
      "C:\\Users\\gpulg\\anaconda3\\lib\\site-packages\\sklearn\\metrics\\_classification.py:1221: UndefinedMetricWarning: Precision is ill-defined and being set to 0.0 in labels with no predicted samples. Use `zero_division` parameter to control this behavior.\n",
      "  _warn_prf(average, modifier, msg_start, len(result))\n",
      "C:\\Users\\gpulg\\anaconda3\\lib\\site-packages\\sklearn\\metrics\\_classification.py:1221: UndefinedMetricWarning: Precision is ill-defined and being set to 0.0 in labels with no predicted samples. Use `zero_division` parameter to control this behavior.\n",
      "  _warn_prf(average, modifier, msg_start, len(result))\n",
      "C:\\Users\\gpulg\\anaconda3\\lib\\site-packages\\sklearn\\metrics\\_classification.py:1221: UndefinedMetricWarning: Precision is ill-defined and being set to 0.0 in labels with no predicted samples. Use `zero_division` parameter to control this behavior.\n",
      "  _warn_prf(average, modifier, msg_start, len(result))\n",
      "C:\\Users\\gpulg\\anaconda3\\lib\\site-packages\\sklearn\\metrics\\_classification.py:1221: UndefinedMetricWarning: Precision is ill-defined and being set to 0.0 in labels with no predicted samples. Use `zero_division` parameter to control this behavior.\n",
      "  _warn_prf(average, modifier, msg_start, len(result))\n",
      "C:\\Users\\gpulg\\anaconda3\\lib\\site-packages\\sklearn\\metrics\\_classification.py:1221: UndefinedMetricWarning: Precision is ill-defined and being set to 0.0 in labels with no predicted samples. Use `zero_division` parameter to control this behavior.\n",
      "  _warn_prf(average, modifier, msg_start, len(result))\n",
      "C:\\Users\\gpulg\\anaconda3\\lib\\site-packages\\sklearn\\metrics\\_classification.py:1221: UndefinedMetricWarning: Precision is ill-defined and being set to 0.0 in labels with no predicted samples. Use `zero_division` parameter to control this behavior.\n",
      "  _warn_prf(average, modifier, msg_start, len(result))\n",
      "C:\\Users\\gpulg\\anaconda3\\lib\\site-packages\\sklearn\\metrics\\_classification.py:1221: UndefinedMetricWarning: Precision is ill-defined and being set to 0.0 in labels with no predicted samples. Use `zero_division` parameter to control this behavior.\n",
      "  _warn_prf(average, modifier, msg_start, len(result))\n",
      "C:\\Users\\gpulg\\anaconda3\\lib\\site-packages\\sklearn\\metrics\\_classification.py:1221: UndefinedMetricWarning: Precision is ill-defined and being set to 0.0 in labels with no predicted samples. Use `zero_division` parameter to control this behavior.\n",
      "  _warn_prf(average, modifier, msg_start, len(result))\n",
      "C:\\Users\\gpulg\\anaconda3\\lib\\site-packages\\sklearn\\metrics\\_classification.py:1221: UndefinedMetricWarning: Precision is ill-defined and being set to 0.0 in labels with no predicted samples. Use `zero_division` parameter to control this behavior.\n",
      "  _warn_prf(average, modifier, msg_start, len(result))\n",
      "C:\\Users\\gpulg\\anaconda3\\lib\\site-packages\\sklearn\\metrics\\_classification.py:1221: UndefinedMetricWarning: Precision is ill-defined and being set to 0.0 in labels with no predicted samples. Use `zero_division` parameter to control this behavior.\n",
      "  _warn_prf(average, modifier, msg_start, len(result))\n",
      "C:\\Users\\gpulg\\anaconda3\\lib\\site-packages\\sklearn\\metrics\\_classification.py:1221: UndefinedMetricWarning: Precision is ill-defined and being set to 0.0 in labels with no predicted samples. Use `zero_division` parameter to control this behavior.\n",
      "  _warn_prf(average, modifier, msg_start, len(result))\n",
      "C:\\Users\\gpulg\\anaconda3\\lib\\site-packages\\sklearn\\metrics\\_classification.py:1221: UndefinedMetricWarning: Precision is ill-defined and being set to 0.0 in labels with no predicted samples. Use `zero_division` parameter to control this behavior.\n",
      "  _warn_prf(average, modifier, msg_start, len(result))\n",
      "C:\\Users\\gpulg\\anaconda3\\lib\\site-packages\\sklearn\\metrics\\_classification.py:1221: UndefinedMetricWarning: Precision is ill-defined and being set to 0.0 in labels with no predicted samples. Use `zero_division` parameter to control this behavior.\n",
      "  _warn_prf(average, modifier, msg_start, len(result))\n",
      "C:\\Users\\gpulg\\anaconda3\\lib\\site-packages\\sklearn\\metrics\\_classification.py:1221: UndefinedMetricWarning: Precision is ill-defined and being set to 0.0 in labels with no predicted samples. Use `zero_division` parameter to control this behavior.\n",
      "  _warn_prf(average, modifier, msg_start, len(result))\n",
      "C:\\Users\\gpulg\\anaconda3\\lib\\site-packages\\sklearn\\metrics\\_classification.py:1221: UndefinedMetricWarning: Precision is ill-defined and being set to 0.0 in labels with no predicted samples. Use `zero_division` parameter to control this behavior.\n",
      "  _warn_prf(average, modifier, msg_start, len(result))\n",
      "C:\\Users\\gpulg\\anaconda3\\lib\\site-packages\\sklearn\\metrics\\_classification.py:1221: UndefinedMetricWarning: Precision is ill-defined and being set to 0.0 in labels with no predicted samples. Use `zero_division` parameter to control this behavior.\n",
      "  _warn_prf(average, modifier, msg_start, len(result))\n",
      "C:\\Users\\gpulg\\anaconda3\\lib\\site-packages\\sklearn\\metrics\\_classification.py:1221: UndefinedMetricWarning: Precision is ill-defined and being set to 0.0 in labels with no predicted samples. Use `zero_division` parameter to control this behavior.\n",
      "  _warn_prf(average, modifier, msg_start, len(result))\n",
      "C:\\Users\\gpulg\\anaconda3\\lib\\site-packages\\sklearn\\metrics\\_classification.py:1221: UndefinedMetricWarning: Precision is ill-defined and being set to 0.0 in labels with no predicted samples. Use `zero_division` parameter to control this behavior.\n",
      "  _warn_prf(average, modifier, msg_start, len(result))\n",
      "C:\\Users\\gpulg\\anaconda3\\lib\\site-packages\\sklearn\\metrics\\_classification.py:1221: UndefinedMetricWarning: Precision is ill-defined and being set to 0.0 in labels with no predicted samples. Use `zero_division` parameter to control this behavior.\n",
      "  _warn_prf(average, modifier, msg_start, len(result))\n",
      "C:\\Users\\gpulg\\anaconda3\\lib\\site-packages\\sklearn\\metrics\\_classification.py:1221: UndefinedMetricWarning: Precision is ill-defined and being set to 0.0 in labels with no predicted samples. Use `zero_division` parameter to control this behavior.\n",
      "  _warn_prf(average, modifier, msg_start, len(result))\n",
      "C:\\Users\\gpulg\\anaconda3\\lib\\site-packages\\sklearn\\metrics\\_classification.py:1221: UndefinedMetricWarning: Precision is ill-defined and being set to 0.0 in labels with no predicted samples. Use `zero_division` parameter to control this behavior.\n",
      "  _warn_prf(average, modifier, msg_start, len(result))\n",
      "C:\\Users\\gpulg\\anaconda3\\lib\\site-packages\\sklearn\\metrics\\_classification.py:1221: UndefinedMetricWarning: Precision is ill-defined and being set to 0.0 in labels with no predicted samples. Use `zero_division` parameter to control this behavior.\n",
      "  _warn_prf(average, modifier, msg_start, len(result))\n",
      "C:\\Users\\gpulg\\anaconda3\\lib\\site-packages\\sklearn\\metrics\\_classification.py:1221: UndefinedMetricWarning: Precision is ill-defined and being set to 0.0 in labels with no predicted samples. Use `zero_division` parameter to control this behavior.\n",
      "  _warn_prf(average, modifier, msg_start, len(result))\n",
      "C:\\Users\\gpulg\\anaconda3\\lib\\site-packages\\sklearn\\metrics\\_classification.py:1221: UndefinedMetricWarning: Precision is ill-defined and being set to 0.0 in labels with no predicted samples. Use `zero_division` parameter to control this behavior.\n",
      "  _warn_prf(average, modifier, msg_start, len(result))\n",
      "C:\\Users\\gpulg\\anaconda3\\lib\\site-packages\\sklearn\\metrics\\_classification.py:1221: UndefinedMetricWarning: Precision is ill-defined and being set to 0.0 in labels with no predicted samples. Use `zero_division` parameter to control this behavior.\n",
      "  _warn_prf(average, modifier, msg_start, len(result))\n",
      "C:\\Users\\gpulg\\anaconda3\\lib\\site-packages\\sklearn\\metrics\\_classification.py:1221: UndefinedMetricWarning: Precision is ill-defined and being set to 0.0 in labels with no predicted samples. Use `zero_division` parameter to control this behavior.\n",
      "  _warn_prf(average, modifier, msg_start, len(result))\n",
      "C:\\Users\\gpulg\\anaconda3\\lib\\site-packages\\sklearn\\metrics\\_classification.py:1221: UndefinedMetricWarning: Precision is ill-defined and being set to 0.0 in labels with no predicted samples. Use `zero_division` parameter to control this behavior.\n",
      "  _warn_prf(average, modifier, msg_start, len(result))\n",
      "C:\\Users\\gpulg\\anaconda3\\lib\\site-packages\\sklearn\\metrics\\_classification.py:1221: UndefinedMetricWarning: Precision is ill-defined and being set to 0.0 in labels with no predicted samples. Use `zero_division` parameter to control this behavior.\n",
      "  _warn_prf(average, modifier, msg_start, len(result))\n"
     ]
    },
    {
     "name": "stderr",
     "output_type": "stream",
     "text": [
      "C:\\Users\\gpulg\\anaconda3\\lib\\site-packages\\sklearn\\metrics\\_classification.py:1221: UndefinedMetricWarning: Precision is ill-defined and being set to 0.0 in labels with no predicted samples. Use `zero_division` parameter to control this behavior.\n",
      "  _warn_prf(average, modifier, msg_start, len(result))\n",
      "C:\\Users\\gpulg\\anaconda3\\lib\\site-packages\\sklearn\\metrics\\_classification.py:1221: UndefinedMetricWarning: Precision is ill-defined and being set to 0.0 in labels with no predicted samples. Use `zero_division` parameter to control this behavior.\n",
      "  _warn_prf(average, modifier, msg_start, len(result))\n",
      "C:\\Users\\gpulg\\anaconda3\\lib\\site-packages\\sklearn\\metrics\\_classification.py:1221: UndefinedMetricWarning: Precision is ill-defined and being set to 0.0 in labels with no predicted samples. Use `zero_division` parameter to control this behavior.\n",
      "  _warn_prf(average, modifier, msg_start, len(result))\n",
      "C:\\Users\\gpulg\\anaconda3\\lib\\site-packages\\sklearn\\metrics\\_classification.py:1221: UndefinedMetricWarning: Precision is ill-defined and being set to 0.0 in labels with no predicted samples. Use `zero_division` parameter to control this behavior.\n",
      "  _warn_prf(average, modifier, msg_start, len(result))\n",
      "C:\\Users\\gpulg\\anaconda3\\lib\\site-packages\\sklearn\\metrics\\_classification.py:1221: UndefinedMetricWarning: Precision is ill-defined and being set to 0.0 in labels with no predicted samples. Use `zero_division` parameter to control this behavior.\n",
      "  _warn_prf(average, modifier, msg_start, len(result))\n",
      "C:\\Users\\gpulg\\anaconda3\\lib\\site-packages\\sklearn\\metrics\\_classification.py:1221: UndefinedMetricWarning: Precision is ill-defined and being set to 0.0 in labels with no predicted samples. Use `zero_division` parameter to control this behavior.\n",
      "  _warn_prf(average, modifier, msg_start, len(result))\n",
      "C:\\Users\\gpulg\\anaconda3\\lib\\site-packages\\sklearn\\metrics\\_classification.py:1221: UndefinedMetricWarning: Precision is ill-defined and being set to 0.0 in labels with no predicted samples. Use `zero_division` parameter to control this behavior.\n",
      "  _warn_prf(average, modifier, msg_start, len(result))\n"
     ]
    },
    {
     "name": "stdout",
     "output_type": "stream",
     "text": [
      "Best parameters set found on development set:\n",
      "\n",
      "{'C': 1000, 'gamma': 0.001, 'kernel': 'rbf'}\n",
      "\n",
      "Grid scores on development set:\n",
      "\n",
      "0.193 (+/-0.000) for {'C': 1, 'gamma': 0.001, 'kernel': 'rbf'}\n",
      "0.193 (+/-0.000) for {'C': 1, 'gamma': 0.0001, 'kernel': 'rbf'}\n",
      "0.193 (+/-0.000) for {'C': 10, 'gamma': 0.001, 'kernel': 'rbf'}\n",
      "0.193 (+/-0.000) for {'C': 10, 'gamma': 0.0001, 'kernel': 'rbf'}\n",
      "0.518 (+/-0.013) for {'C': 100, 'gamma': 0.001, 'kernel': 'rbf'}\n",
      "0.193 (+/-0.000) for {'C': 100, 'gamma': 0.0001, 'kernel': 'rbf'}\n",
      "0.673 (+/-0.045) for {'C': 1000, 'gamma': 0.001, 'kernel': 'rbf'}\n",
      "0.518 (+/-0.013) for {'C': 1000, 'gamma': 0.0001, 'kernel': 'rbf'}\n",
      "0.654 (+/-0.055) for {'C': 1, 'kernel': 'linear'}\n",
      "0.608 (+/-0.035) for {'C': 10, 'kernel': 'linear'}\n",
      "0.581 (+/-0.059) for {'C': 100, 'kernel': 'linear'}\n",
      "0.562 (+/-0.032) for {'C': 1000, 'kernel': 'linear'}\n",
      "\n",
      "Detailed classification report:\n",
      "\n",
      "The model is trained on the full development set.\n",
      "The scores are computed on the full evaluation set.\n",
      "\n",
      "              precision    recall  f1-score   support\n",
      "\n",
      "    Negative       0.40      0.25      0.31        88\n",
      "     Neutral       0.79      0.80      0.80       880\n",
      "    Positive       0.72      0.74      0.73       558\n",
      "\n",
      "    accuracy                           0.75      1526\n",
      "   macro avg       0.64      0.60      0.61      1526\n",
      "weighted avg       0.74      0.75      0.74      1526\n",
      "\n",
      "\n",
      "# Tuning hyper-parameters for recall\n",
      "\n",
      "Best parameters set found on development set:\n",
      "\n",
      "{'C': 1000, 'gamma': 0.001, 'kernel': 'rbf'}\n",
      "\n",
      "Grid scores on development set:\n",
      "\n",
      "0.333 (+/-0.000) for {'C': 1, 'gamma': 0.001, 'kernel': 'rbf'}\n",
      "0.333 (+/-0.000) for {'C': 1, 'gamma': 0.0001, 'kernel': 'rbf'}\n",
      "0.333 (+/-0.000) for {'C': 10, 'gamma': 0.001, 'kernel': 'rbf'}\n",
      "0.333 (+/-0.000) for {'C': 10, 'gamma': 0.0001, 'kernel': 'rbf'}\n",
      "0.470 (+/-0.012) for {'C': 100, 'gamma': 0.001, 'kernel': 'rbf'}\n",
      "0.333 (+/-0.000) for {'C': 100, 'gamma': 0.0001, 'kernel': 'rbf'}\n",
      "0.578 (+/-0.030) for {'C': 1000, 'gamma': 0.001, 'kernel': 'rbf'}\n",
      "0.470 (+/-0.012) for {'C': 1000, 'gamma': 0.0001, 'kernel': 'rbf'}\n",
      "0.541 (+/-0.024) for {'C': 1, 'kernel': 'linear'}\n",
      "0.565 (+/-0.032) for {'C': 10, 'kernel': 'linear'}\n",
      "0.552 (+/-0.053) for {'C': 100, 'kernel': 'linear'}\n",
      "0.532 (+/-0.031) for {'C': 1000, 'kernel': 'linear'}\n",
      "\n",
      "Detailed classification report:\n",
      "\n",
      "The model is trained on the full development set.\n",
      "The scores are computed on the full evaluation set.\n",
      "\n",
      "              precision    recall  f1-score   support\n",
      "\n",
      "    Negative       0.40      0.25      0.31        88\n",
      "     Neutral       0.79      0.80      0.80       880\n",
      "    Positive       0.72      0.74      0.73       558\n",
      "\n",
      "    accuracy                           0.75      1526\n",
      "   macro avg       0.64      0.60      0.61      1526\n",
      "weighted avg       0.74      0.75      0.74      1526\n",
      "\n",
      "\n"
     ]
    }
   ],
   "source": [
    "#Grid search \n",
    "from sklearn import datasets\n",
    "from sklearn.model_selection import train_test_split\n",
    "from sklearn.model_selection import GridSearchCV\n",
    "from sklearn.metrics import classification_report\n",
    "from sklearn.svm import SVC\n",
    "\n",
    "#print(__doc__)\n",
    "\n",
    "# Loading the Digits dataset     , readi\n",
    "#digits = datasets.load_digits() , readi\n",
    " \n",
    "# To apply an classifier on this data, we need to flatten the image, to\n",
    "# turn the data in a (samples, feature) matrix:\n",
    "#X = digits.images.reshape((n_samples, -1))\n",
    "#y = digits.target\n",
    "\n",
    "\n",
    "# Split the dataset in two equal parts\n",
    "\n",
    "   # X_svd_train, X_svd_test, y_train, y_test = train_test_split(  df2, test_size=0.5, random_state=0)\n",
    "    \n",
    "\n",
    "# Set the parameters by cross-validation\n",
    "tuned_parameters = [{'kernel': ['rbf'], 'gamma': [1e-3, 1e-4],\n",
    "                     'C': [1, 10, 100, 1000]},\n",
    "                    {'kernel': ['linear'], 'C': [1, 10, 100, 1000]}]\n",
    "\n",
    "scores = ['precision', 'recall']\n",
    "\n",
    "for score in scores:\n",
    "    print(\"# Tuning hyper-parameters for %s\" % score)\n",
    "    print()\n",
    "\n",
    "    clf = GridSearchCV(        SVC(), tuned_parameters, scoring='%s_macro' % score\n",
    "    )\n",
    "    clf.fit(X_train, y_train)\n",
    "\n",
    "    print(\"Best parameters set found on development set:\")\n",
    "    print()\n",
    "    print(clf.best_params_)\n",
    "    print()\n",
    "    print(\"Grid scores on development set:\")\n",
    "    print()\n",
    "    means = clf.cv_results_['mean_test_score']\n",
    "    stds = clf.cv_results_['std_test_score']\n",
    "    for mean, std, params in zip(means, stds, clf.cv_results_['params']):\n",
    "        print(\"%0.3f (+/-%0.03f) for %r\"\n",
    "              % (mean, std * 2, params))\n",
    "    print()\n",
    "\n",
    "    print(\"Detailed classification report:\")\n",
    "    print()\n",
    "    print(\"The model is trained on the full development set.\")\n",
    "    print(\"The scores are computed on the full evaluation set.\")\n",
    "    print()\n",
    "    y_true, y_pred = y_test, clf.predict(X_test)\n",
    "    print(classification_report(y_true, y_pred))\n",
    "    print()\n",
    "\n",
    "# Note the problem is too easy: the hyperparameter plateau is too flat and the\n",
    "# output model is the same for precision and recall with ties in quality."
   ]
  },
  {
   "cell_type": "markdown",
   "metadata": {},
   "source": [
    "# 4.Modelamiento: Support Vector Machine (SVM)\n",
    "Según Dubiau, se trata de un algoritmo o método supervisado de clasificación binaria en el que el entrenamiento de los datos consiste en encontrar un hiperplano óptimo que separe los vectores, los cuales representan los textos de un conjunto de datos (vectores de características), en dos grupos, considerando la mayor separación posible. Los vectores que establecen el margen de separación máxima se denominan support vectors (2013):\n",
    "\n"
   ]
  },
  {
   "cell_type": "code",
   "execution_count": 44,
   "metadata": {},
   "outputs": [
    {
     "data": {
      "text/plain": [
       "SGDClassifier(max_iter=100)"
      ]
     },
     "execution_count": 44,
     "metadata": {},
     "output_type": "execute_result"
    }
   ],
   "source": [
    "from sklearn.svm import SVC\n",
    "from sklearn.model_selection import cross_validate\n",
    "from sklearn.model_selection import cross_val_score\n",
    "from sklearn.linear_model import SGDClassifier\n",
    "svc=SVC(kernel='linear',C=0.010, degree=3, coef0=0.0, class_weight='balanced')\n",
    "scores = cross_val_score(svc, X_svd_train, y_train, cv=3, scoring='accuracy') # clases, 10?\n",
    "svc = SGDClassifier(max_iter=100)\n",
    "svc.fit(X_svd_train, y_train)\n"
   ]
  },
  {
   "cell_type": "markdown",
   "metadata": {},
   "source": [
    "#5 Resultados: Evaluación\n",
    "La evaluación se lleva a cabo en base a una métrica de exactitud, que representa el número de predicciones correctas sobre las predicciones totales del conjunto de prueba (Mishra, 2018). Esto quiere decir que tan exacta es la clasificación de los comentarios de los productos en relación a la polaridad del sentimiento que se expresa en cada uno.\n",
    "\n"
   ]
  },
  {
   "cell_type": "code",
   "execution_count": 46,
   "metadata": {},
   "outputs": [
    {
     "data": {
      "text/plain": [
       "array(['Neutral', 'Neutral', 'Positive', ..., 'Neutral', 'Neutral',\n",
       "       'Positive'], dtype='<U8')"
      ]
     },
     "execution_count": 46,
     "metadata": {},
     "output_type": "execute_result"
    }
   ],
   "source": [
    "predicted_sentiments = svc.predict(X_svd_test)\n",
    "predicted_sentiments"
   ]
  },
  {
   "cell_type": "code",
   "execution_count": 47,
   "metadata": {
    "scrolled": false
   },
   "outputs": [
    {
     "name": "stdout",
     "output_type": "stream",
     "text": [
      "              precision    recall  f1-score   support\n",
      "\n",
      "    Positive       0.69      0.73      0.71       558\n",
      "    Negative       0.36      0.16      0.22        88\n",
      "     Neutral       0.78      0.80      0.79       880\n",
      "\n",
      "    accuracy                           0.74      1526\n",
      "   macro avg       0.61      0.56      0.57      1526\n",
      "weighted avg       0.73      0.74      0.73      1526\n",
      "\n"
     ]
    }
   ],
   "source": [
    "report = metrics.classification_report(y_true=y_test, \n",
    "                                           y_pred=predicted_sentiments, \n",
    "                                           labels=['Positive', 'Negative', 'Neutral'])\n",
    "print(report)"
   ]
  },
  {
   "cell_type": "code",
   "execution_count": 48,
   "metadata": {},
   "outputs": [
    {
     "name": "stdout",
     "output_type": "stream",
     "text": [
      "Confusion matrix, without normalization\n",
      "[[ 14  53  21]\n",
      " [ 16 703 161]\n",
      " [  9 141 408]]\n",
      "Normalized confusion matrix\n",
      "[[0.15909091 0.60227273 0.23863636]\n",
      " [0.01818182 0.79886364 0.18295455]\n",
      " [0.01612903 0.25268817 0.7311828 ]]\n"
     ]
    },
    {
     "data": {
      "image/png": "[encoded data removed]",
      "text/plain": [
       "<Figure size 432x288 with 2 Axes>"
      ]
     },
     "metadata": {
      "needs_background": "light"
     },
     "output_type": "display_data"
    },
    {
     "data": {
      "image/png": "[encoded data removed]",
      "text/plain": [
       "<Figure size 432x288 with 2 Axes>"
      ]
     },
     "metadata": {
      "needs_background": "light"
     },
     "output_type": "display_data"
    }
   ],
   "source": [
    "# Graficar matrices de confusión sin y con normalizacion \n",
    "from sklearn.metrics import plot_confusion_matrix\n",
    "titles_options = [(\"Confusion matrix, without normalization\", None),\n",
    "                  (\"Normalized confusion matrix\", 'true')]\n",
    "for title, normalize in titles_options:\n",
    "    disp = plot_confusion_matrix(svc, X_svd_test, y_test,\n",
    "                                 display_labels=['Negative', 'Neutral', 'Positive'],\n",
    "                                 cmap=plt.cm.Blues,\n",
    "                                 normalize=normalize)\n",
    "    disp.ax_.set_title(title)\n",
    "\n",
    "    print(title)\n",
    "    print(disp.confusion_matrix)\n",
    "\n",
    "plt.show()"
   ]
  },
  {
   "cell_type": "code",
   "execution_count": null,
   "metadata": {},
   "outputs": [],
   "source": []
  },
  {
   "cell_type": "code",
   "execution_count": null,
   "metadata": {},
   "outputs": [],
   "source": []
  },
  {
   "cell_type": "code",
   "execution_count": null,
   "metadata": {},
   "outputs": [],
   "source": []
  }
 ],
 "metadata": {
  "kernelspec": {
   "display_name": "Python 3",
   "language": "python",
   "name": "python3"
  },
  "language_info": {
   "codemirror_mode": {
    "name": "ipython",
    "version": 3
   },
   "file_extension": ".py",
   "mimetype": "text/x-python",
   "name": "python",
   "nbconvert_exporter": "python",
   "pygments_lexer": "ipython3",
   "version": "3.8.3"
  }
 },
 "nbformat": 4,
 "nbformat_minor": 4
}
